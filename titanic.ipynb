{
 "cells": [
  {
   "cell_type": "markdown",
   "metadata": {},
   "source": [
    "### 1. Import module and test"
   ]
  },
  {
   "cell_type": "code",
   "execution_count": 1,
   "metadata": {},
   "outputs": [],
   "source": [
    "import pandas as pd\n",
    "import numpy as np\n",
    "import seaborn as sb\n",
    "import warnings \n",
    "warnings.filterwarnings('ignore')\n",
    "from matplotlib import pyplot as plt"
   ]
  },
  {
   "cell_type": "code",
   "execution_count": 2,
   "metadata": {},
   "outputs": [],
   "source": [
    "train = pd.read_csv(\"./dataset/train.csv\")\n",
    "test = pd.read_csv(\"./dataset/test.csv\")"
   ]
  },
  {
   "cell_type": "markdown",
   "metadata": {},
   "source": [
    "### 2. test Overview"
   ]
  },
  {
   "cell_type": "markdown",
   "metadata": {},
   "source": [
    "* test Dictionary\n",
    "    1. Survival : survival or not (0 : No, 1 : Yes)  \n",
    "    2. pclass : Ticket class  \n",
    "    3. sex : sex  \n",
    "    4. Age : age in years  \n",
    "    5. sibsp : # of sibilings / spouses aborad the titanic  \n",
    "    6. parch : # of parents / children aborad the titanic  \n",
    "    7. ticket : Ticket number  \n",
    "    8. fare : Passenger fare  \n",
    "    9. cabin : Cabin number  \n",
    "    10. embarked : Port of Embarkation (C : Cherborug, Q : Queenstown, S : Southampton)  "
   ]
  },
  {
   "cell_type": "markdown",
   "metadata": {},
   "source": [
    "**Train test**"
   ]
  },
  {
   "cell_type": "markdown",
   "metadata": {},
   "source": [
    "각각 891개의 데이터가 있으며 12개의 column으로 이루어져 있음."
   ]
  },
  {
   "cell_type": "code",
   "execution_count": 3,
   "metadata": {},
   "outputs": [
    {
     "name": "stdout",
     "output_type": "stream",
     "text": [
      "(891, 12)\n"
     ]
    }
   ],
   "source": [
    "print(train.shape)"
   ]
  },
  {
   "cell_type": "markdown",
   "metadata": {},
   "source": [
    "Age에서 177개, Cabin에서 687개, Embarked에서 2개의 결측치가 있음."
   ]
  },
  {
   "cell_type": "code",
   "execution_count": 4,
   "metadata": {},
   "outputs": [
    {
     "name": "stdout",
     "output_type": "stream",
     "text": [
      "<class 'pandas.core.frame.DataFrame'>\n",
      "RangeIndex: 891 entries, 0 to 890\n",
      "Data columns (total 12 columns):\n",
      " #   Column       Non-Null Count  Dtype  \n",
      "---  ------       --------------  -----  \n",
      " 0   PassengerId  891 non-null    int64  \n",
      " 1   Survived     891 non-null    int64  \n",
      " 2   Pclass       891 non-null    int64  \n",
      " 3   Name         891 non-null    object \n",
      " 4   Sex          891 non-null    object \n",
      " 5   Age          714 non-null    float64\n",
      " 6   SibSp        891 non-null    int64  \n",
      " 7   Parch        891 non-null    int64  \n",
      " 8   Ticket       891 non-null    object \n",
      " 9   Fare         891 non-null    float64\n",
      " 10  Cabin        204 non-null    object \n",
      " 11  Embarked     889 non-null    object \n",
      "dtypes: float64(2), int64(5), object(5)\n",
      "memory usage: 83.7+ KB\n",
      "None\n"
     ]
    }
   ],
   "source": [
    "print(train.info())"
   ]
  },
  {
   "cell_type": "code",
   "execution_count": 5,
   "metadata": {},
   "outputs": [
    {
     "data": {
      "text/plain": [
       "PassengerId      0\n",
       "Survived         0\n",
       "Pclass           0\n",
       "Name             0\n",
       "Sex              0\n",
       "Age            177\n",
       "SibSp            0\n",
       "Parch            0\n",
       "Ticket           0\n",
       "Fare             0\n",
       "Cabin          687\n",
       "Embarked         2\n",
       "dtype: int64"
      ]
     },
     "execution_count": 5,
     "metadata": {},
     "output_type": "execute_result"
    }
   ],
   "source": [
    "train.isnull().sum()"
   ]
  },
  {
   "cell_type": "markdown",
   "metadata": {},
   "source": [
    "각각의 데이터는 아래와 같이 이루어져 있음."
   ]
  },
  {
   "cell_type": "code",
   "execution_count": 6,
   "metadata": {},
   "outputs": [
    {
     "data": {
      "text/html": [
       "<div>\n",
       "<style scoped>\n",
       "    .dataframe tbody tr th:only-of-type {\n",
       "        vertical-align: middle;\n",
       "    }\n",
       "\n",
       "    .dataframe tbody tr th {\n",
       "        vertical-align: top;\n",
       "    }\n",
       "\n",
       "    .dataframe thead th {\n",
       "        text-align: right;\n",
       "    }\n",
       "</style>\n",
       "<table border=\"1\" class=\"dataframe\">\n",
       "  <thead>\n",
       "    <tr style=\"text-align: right;\">\n",
       "      <th></th>\n",
       "      <th>PassengerId</th>\n",
       "      <th>Survived</th>\n",
       "      <th>Pclass</th>\n",
       "      <th>Name</th>\n",
       "      <th>Sex</th>\n",
       "      <th>Age</th>\n",
       "      <th>SibSp</th>\n",
       "      <th>Parch</th>\n",
       "      <th>Ticket</th>\n",
       "      <th>Fare</th>\n",
       "      <th>Cabin</th>\n",
       "      <th>Embarked</th>\n",
       "    </tr>\n",
       "  </thead>\n",
       "  <tbody>\n",
       "    <tr>\n",
       "      <th>0</th>\n",
       "      <td>1</td>\n",
       "      <td>0</td>\n",
       "      <td>3</td>\n",
       "      <td>Braund, Mr. Owen Harris</td>\n",
       "      <td>male</td>\n",
       "      <td>22.0</td>\n",
       "      <td>1</td>\n",
       "      <td>0</td>\n",
       "      <td>A/5 21171</td>\n",
       "      <td>7.2500</td>\n",
       "      <td>NaN</td>\n",
       "      <td>S</td>\n",
       "    </tr>\n",
       "    <tr>\n",
       "      <th>1</th>\n",
       "      <td>2</td>\n",
       "      <td>1</td>\n",
       "      <td>1</td>\n",
       "      <td>Cumings, Mrs. John Bradley (Florence Briggs Th...</td>\n",
       "      <td>female</td>\n",
       "      <td>38.0</td>\n",
       "      <td>1</td>\n",
       "      <td>0</td>\n",
       "      <td>PC 17599</td>\n",
       "      <td>71.2833</td>\n",
       "      <td>C85</td>\n",
       "      <td>C</td>\n",
       "    </tr>\n",
       "    <tr>\n",
       "      <th>2</th>\n",
       "      <td>3</td>\n",
       "      <td>1</td>\n",
       "      <td>3</td>\n",
       "      <td>Heikkinen, Miss. Laina</td>\n",
       "      <td>female</td>\n",
       "      <td>26.0</td>\n",
       "      <td>0</td>\n",
       "      <td>0</td>\n",
       "      <td>STON/O2. 3101282</td>\n",
       "      <td>7.9250</td>\n",
       "      <td>NaN</td>\n",
       "      <td>S</td>\n",
       "    </tr>\n",
       "    <tr>\n",
       "      <th>3</th>\n",
       "      <td>4</td>\n",
       "      <td>1</td>\n",
       "      <td>1</td>\n",
       "      <td>Futrelle, Mrs. Jacques Heath (Lily May Peel)</td>\n",
       "      <td>female</td>\n",
       "      <td>35.0</td>\n",
       "      <td>1</td>\n",
       "      <td>0</td>\n",
       "      <td>113803</td>\n",
       "      <td>53.1000</td>\n",
       "      <td>C123</td>\n",
       "      <td>S</td>\n",
       "    </tr>\n",
       "    <tr>\n",
       "      <th>4</th>\n",
       "      <td>5</td>\n",
       "      <td>0</td>\n",
       "      <td>3</td>\n",
       "      <td>Allen, Mr. William Henry</td>\n",
       "      <td>male</td>\n",
       "      <td>35.0</td>\n",
       "      <td>0</td>\n",
       "      <td>0</td>\n",
       "      <td>373450</td>\n",
       "      <td>8.0500</td>\n",
       "      <td>NaN</td>\n",
       "      <td>S</td>\n",
       "    </tr>\n",
       "  </tbody>\n",
       "</table>\n",
       "</div>"
      ],
      "text/plain": [
       "   PassengerId  Survived  Pclass  \\\n",
       "0            1         0       3   \n",
       "1            2         1       1   \n",
       "2            3         1       3   \n",
       "3            4         1       1   \n",
       "4            5         0       3   \n",
       "\n",
       "                                                Name     Sex   Age  SibSp  \\\n",
       "0                            Braund, Mr. Owen Harris    male  22.0      1   \n",
       "1  Cumings, Mrs. John Bradley (Florence Briggs Th...  female  38.0      1   \n",
       "2                             Heikkinen, Miss. Laina  female  26.0      0   \n",
       "3       Futrelle, Mrs. Jacques Heath (Lily May Peel)  female  35.0      1   \n",
       "4                           Allen, Mr. William Henry    male  35.0      0   \n",
       "\n",
       "   Parch            Ticket     Fare Cabin Embarked  \n",
       "0      0         A/5 21171   7.2500   NaN        S  \n",
       "1      0          PC 17599  71.2833   C85        C  \n",
       "2      0  STON/O2. 3101282   7.9250   NaN        S  \n",
       "3      0            113803  53.1000  C123        S  \n",
       "4      0            373450   8.0500   NaN        S  "
      ]
     },
     "execution_count": 6,
     "metadata": {},
     "output_type": "execute_result"
    }
   ],
   "source": [
    "train.head()"
   ]
  },
  {
   "cell_type": "markdown",
   "metadata": {},
   "source": [
    "각 데이터의 분포는 아래와 같음."
   ]
  },
  {
   "cell_type": "code",
   "execution_count": 7,
   "metadata": {},
   "outputs": [
    {
     "data": {
      "text/html": [
       "<div>\n",
       "<style scoped>\n",
       "    .dataframe tbody tr th:only-of-type {\n",
       "        vertical-align: middle;\n",
       "    }\n",
       "\n",
       "    .dataframe tbody tr th {\n",
       "        vertical-align: top;\n",
       "    }\n",
       "\n",
       "    .dataframe thead th {\n",
       "        text-align: right;\n",
       "    }\n",
       "</style>\n",
       "<table border=\"1\" class=\"dataframe\">\n",
       "  <thead>\n",
       "    <tr style=\"text-align: right;\">\n",
       "      <th></th>\n",
       "      <th>PassengerId</th>\n",
       "      <th>Survived</th>\n",
       "      <th>Pclass</th>\n",
       "      <th>Age</th>\n",
       "      <th>SibSp</th>\n",
       "      <th>Parch</th>\n",
       "      <th>Fare</th>\n",
       "    </tr>\n",
       "  </thead>\n",
       "  <tbody>\n",
       "    <tr>\n",
       "      <th>count</th>\n",
       "      <td>891.000000</td>\n",
       "      <td>891.000000</td>\n",
       "      <td>891.000000</td>\n",
       "      <td>714.000000</td>\n",
       "      <td>891.000000</td>\n",
       "      <td>891.000000</td>\n",
       "      <td>891.000000</td>\n",
       "    </tr>\n",
       "    <tr>\n",
       "      <th>mean</th>\n",
       "      <td>446.000000</td>\n",
       "      <td>0.383838</td>\n",
       "      <td>2.308642</td>\n",
       "      <td>29.699118</td>\n",
       "      <td>0.523008</td>\n",
       "      <td>0.381594</td>\n",
       "      <td>32.204208</td>\n",
       "    </tr>\n",
       "    <tr>\n",
       "      <th>std</th>\n",
       "      <td>257.353842</td>\n",
       "      <td>0.486592</td>\n",
       "      <td>0.836071</td>\n",
       "      <td>14.526497</td>\n",
       "      <td>1.102743</td>\n",
       "      <td>0.806057</td>\n",
       "      <td>49.693429</td>\n",
       "    </tr>\n",
       "    <tr>\n",
       "      <th>min</th>\n",
       "      <td>1.000000</td>\n",
       "      <td>0.000000</td>\n",
       "      <td>1.000000</td>\n",
       "      <td>0.420000</td>\n",
       "      <td>0.000000</td>\n",
       "      <td>0.000000</td>\n",
       "      <td>0.000000</td>\n",
       "    </tr>\n",
       "    <tr>\n",
       "      <th>25%</th>\n",
       "      <td>223.500000</td>\n",
       "      <td>0.000000</td>\n",
       "      <td>2.000000</td>\n",
       "      <td>20.125000</td>\n",
       "      <td>0.000000</td>\n",
       "      <td>0.000000</td>\n",
       "      <td>7.910400</td>\n",
       "    </tr>\n",
       "    <tr>\n",
       "      <th>50%</th>\n",
       "      <td>446.000000</td>\n",
       "      <td>0.000000</td>\n",
       "      <td>3.000000</td>\n",
       "      <td>28.000000</td>\n",
       "      <td>0.000000</td>\n",
       "      <td>0.000000</td>\n",
       "      <td>14.454200</td>\n",
       "    </tr>\n",
       "    <tr>\n",
       "      <th>75%</th>\n",
       "      <td>668.500000</td>\n",
       "      <td>1.000000</td>\n",
       "      <td>3.000000</td>\n",
       "      <td>38.000000</td>\n",
       "      <td>1.000000</td>\n",
       "      <td>0.000000</td>\n",
       "      <td>31.000000</td>\n",
       "    </tr>\n",
       "    <tr>\n",
       "      <th>max</th>\n",
       "      <td>891.000000</td>\n",
       "      <td>1.000000</td>\n",
       "      <td>3.000000</td>\n",
       "      <td>80.000000</td>\n",
       "      <td>8.000000</td>\n",
       "      <td>6.000000</td>\n",
       "      <td>512.329200</td>\n",
       "    </tr>\n",
       "  </tbody>\n",
       "</table>\n",
       "</div>"
      ],
      "text/plain": [
       "       PassengerId    Survived      Pclass         Age       SibSp  \\\n",
       "count   891.000000  891.000000  891.000000  714.000000  891.000000   \n",
       "mean    446.000000    0.383838    2.308642   29.699118    0.523008   \n",
       "std     257.353842    0.486592    0.836071   14.526497    1.102743   \n",
       "min       1.000000    0.000000    1.000000    0.420000    0.000000   \n",
       "25%     223.500000    0.000000    2.000000   20.125000    0.000000   \n",
       "50%     446.000000    0.000000    3.000000   28.000000    0.000000   \n",
       "75%     668.500000    1.000000    3.000000   38.000000    1.000000   \n",
       "max     891.000000    1.000000    3.000000   80.000000    8.000000   \n",
       "\n",
       "            Parch        Fare  \n",
       "count  891.000000  891.000000  \n",
       "mean     0.381594   32.204208  \n",
       "std      0.806057   49.693429  \n",
       "min      0.000000    0.000000  \n",
       "25%      0.000000    7.910400  \n",
       "50%      0.000000   14.454200  \n",
       "75%      0.000000   31.000000  \n",
       "max      6.000000  512.329200  "
      ]
     },
     "execution_count": 7,
     "metadata": {},
     "output_type": "execute_result"
    }
   ],
   "source": [
    "train.describe()"
   ]
  },
  {
   "cell_type": "markdown",
   "metadata": {},
   "source": [
    "**Test test**"
   ]
  },
  {
   "cell_type": "markdown",
   "metadata": {},
   "source": [
    "Test test는 총 418개의 데이터로 이루어져있고 11개의 column으로 이루져있음"
   ]
  },
  {
   "cell_type": "code",
   "execution_count": 8,
   "metadata": {},
   "outputs": [
    {
     "name": "stdout",
     "output_type": "stream",
     "text": [
      "(418, 11)\n"
     ]
    }
   ],
   "source": [
    "print(test.shape)"
   ]
  },
  {
   "cell_type": "markdown",
   "metadata": {},
   "source": [
    "Test 데이터는 Age에서 86개, Cabin에서 327개의 결측치가 있음."
   ]
  },
  {
   "cell_type": "code",
   "execution_count": 9,
   "metadata": {},
   "outputs": [
    {
     "name": "stdout",
     "output_type": "stream",
     "text": [
      "<class 'pandas.core.frame.DataFrame'>\n",
      "RangeIndex: 418 entries, 0 to 417\n",
      "Data columns (total 11 columns):\n",
      " #   Column       Non-Null Count  Dtype  \n",
      "---  ------       --------------  -----  \n",
      " 0   PassengerId  418 non-null    int64  \n",
      " 1   Pclass       418 non-null    int64  \n",
      " 2   Name         418 non-null    object \n",
      " 3   Sex          418 non-null    object \n",
      " 4   Age          332 non-null    float64\n",
      " 5   SibSp        418 non-null    int64  \n",
      " 6   Parch        418 non-null    int64  \n",
      " 7   Ticket       418 non-null    object \n",
      " 8   Fare         417 non-null    float64\n",
      " 9   Cabin        91 non-null     object \n",
      " 10  Embarked     418 non-null    object \n",
      "dtypes: float64(2), int64(4), object(5)\n",
      "memory usage: 36.0+ KB\n",
      "None\n"
     ]
    }
   ],
   "source": [
    "print(test.info())"
   ]
  },
  {
   "cell_type": "code",
   "execution_count": 10,
   "metadata": {},
   "outputs": [
    {
     "data": {
      "text/plain": [
       "PassengerId      0\n",
       "Pclass           0\n",
       "Name             0\n",
       "Sex              0\n",
       "Age             86\n",
       "SibSp            0\n",
       "Parch            0\n",
       "Ticket           0\n",
       "Fare             1\n",
       "Cabin          327\n",
       "Embarked         0\n",
       "dtype: int64"
      ]
     },
     "execution_count": 10,
     "metadata": {},
     "output_type": "execute_result"
    }
   ],
   "source": [
    "test.isnull().sum()"
   ]
  },
  {
   "cell_type": "markdown",
   "metadata": {},
   "source": [
    "Test 데이터의 분포는 아래와 같음."
   ]
  },
  {
   "cell_type": "code",
   "execution_count": 11,
   "metadata": {},
   "outputs": [
    {
     "data": {
      "text/html": [
       "<div>\n",
       "<style scoped>\n",
       "    .dataframe tbody tr th:only-of-type {\n",
       "        vertical-align: middle;\n",
       "    }\n",
       "\n",
       "    .dataframe tbody tr th {\n",
       "        vertical-align: top;\n",
       "    }\n",
       "\n",
       "    .dataframe thead th {\n",
       "        text-align: right;\n",
       "    }\n",
       "</style>\n",
       "<table border=\"1\" class=\"dataframe\">\n",
       "  <thead>\n",
       "    <tr style=\"text-align: right;\">\n",
       "      <th></th>\n",
       "      <th>PassengerId</th>\n",
       "      <th>Pclass</th>\n",
       "      <th>Age</th>\n",
       "      <th>SibSp</th>\n",
       "      <th>Parch</th>\n",
       "      <th>Fare</th>\n",
       "    </tr>\n",
       "  </thead>\n",
       "  <tbody>\n",
       "    <tr>\n",
       "      <th>count</th>\n",
       "      <td>418.000000</td>\n",
       "      <td>418.000000</td>\n",
       "      <td>332.000000</td>\n",
       "      <td>418.000000</td>\n",
       "      <td>418.000000</td>\n",
       "      <td>417.000000</td>\n",
       "    </tr>\n",
       "    <tr>\n",
       "      <th>mean</th>\n",
       "      <td>1100.500000</td>\n",
       "      <td>2.265550</td>\n",
       "      <td>30.272590</td>\n",
       "      <td>0.447368</td>\n",
       "      <td>0.392344</td>\n",
       "      <td>35.627188</td>\n",
       "    </tr>\n",
       "    <tr>\n",
       "      <th>std</th>\n",
       "      <td>120.810458</td>\n",
       "      <td>0.841838</td>\n",
       "      <td>14.181209</td>\n",
       "      <td>0.896760</td>\n",
       "      <td>0.981429</td>\n",
       "      <td>55.907576</td>\n",
       "    </tr>\n",
       "    <tr>\n",
       "      <th>min</th>\n",
       "      <td>892.000000</td>\n",
       "      <td>1.000000</td>\n",
       "      <td>0.170000</td>\n",
       "      <td>0.000000</td>\n",
       "      <td>0.000000</td>\n",
       "      <td>0.000000</td>\n",
       "    </tr>\n",
       "    <tr>\n",
       "      <th>25%</th>\n",
       "      <td>996.250000</td>\n",
       "      <td>1.000000</td>\n",
       "      <td>21.000000</td>\n",
       "      <td>0.000000</td>\n",
       "      <td>0.000000</td>\n",
       "      <td>7.895800</td>\n",
       "    </tr>\n",
       "    <tr>\n",
       "      <th>50%</th>\n",
       "      <td>1100.500000</td>\n",
       "      <td>3.000000</td>\n",
       "      <td>27.000000</td>\n",
       "      <td>0.000000</td>\n",
       "      <td>0.000000</td>\n",
       "      <td>14.454200</td>\n",
       "    </tr>\n",
       "    <tr>\n",
       "      <th>75%</th>\n",
       "      <td>1204.750000</td>\n",
       "      <td>3.000000</td>\n",
       "      <td>39.000000</td>\n",
       "      <td>1.000000</td>\n",
       "      <td>0.000000</td>\n",
       "      <td>31.500000</td>\n",
       "    </tr>\n",
       "    <tr>\n",
       "      <th>max</th>\n",
       "      <td>1309.000000</td>\n",
       "      <td>3.000000</td>\n",
       "      <td>76.000000</td>\n",
       "      <td>8.000000</td>\n",
       "      <td>9.000000</td>\n",
       "      <td>512.329200</td>\n",
       "    </tr>\n",
       "  </tbody>\n",
       "</table>\n",
       "</div>"
      ],
      "text/plain": [
       "       PassengerId      Pclass         Age       SibSp       Parch        Fare\n",
       "count   418.000000  418.000000  332.000000  418.000000  418.000000  417.000000\n",
       "mean   1100.500000    2.265550   30.272590    0.447368    0.392344   35.627188\n",
       "std     120.810458    0.841838   14.181209    0.896760    0.981429   55.907576\n",
       "min     892.000000    1.000000    0.170000    0.000000    0.000000    0.000000\n",
       "25%     996.250000    1.000000   21.000000    0.000000    0.000000    7.895800\n",
       "50%    1100.500000    3.000000   27.000000    0.000000    0.000000   14.454200\n",
       "75%    1204.750000    3.000000   39.000000    1.000000    0.000000   31.500000\n",
       "max    1309.000000    3.000000   76.000000    8.000000    9.000000  512.329200"
      ]
     },
     "execution_count": 11,
     "metadata": {},
     "output_type": "execute_result"
    }
   ],
   "source": [
    "test.describe()"
   ]
  },
  {
   "cell_type": "markdown",
   "metadata": {},
   "source": [
    "### 3. Data Analyzation"
   ]
  },
  {
   "cell_type": "markdown",
   "metadata": {},
   "source": [
    "Name column의 경우 Prefix를 정규표현식을 이용해 추출함."
   ]
  },
  {
   "cell_type": "code",
   "execution_count": 12,
   "metadata": {},
   "outputs": [
    {
     "data": {
      "text/plain": [
       "Mr          517\n",
       "Miss        182\n",
       "Mrs         125\n",
       "Master       40\n",
       "Dr            7\n",
       "Rev           6\n",
       "Major         2\n",
       "Mlle          2\n",
       "Col           2\n",
       "Ms            1\n",
       "Sir           1\n",
       "Don           1\n",
       "Jonkheer      1\n",
       "Countess      1\n",
       "Mme           1\n",
       "Capt          1\n",
       "Lady          1\n",
       "Name: Prefix, dtype: int64"
      ]
     },
     "execution_count": 12,
     "metadata": {},
     "output_type": "execute_result"
    }
   ],
   "source": [
    "train[\"Prefix\"] = train[\"Name\"].str.extract(\"([A-Za-z]+)\\.\")\n",
    "test[\"Prefix\"] = test[\"Name\"].str.extract(\"([A-Za-z]+)\\.\")\n",
    "train[\"Prefix\"].value_counts()"
   ]
  },
  {
   "cell_type": "code",
   "execution_count": 13,
   "metadata": {},
   "outputs": [
    {
     "data": {
      "text/plain": [
       "Mr        240\n",
       "Miss       78\n",
       "Mrs        72\n",
       "Master     21\n",
       "Rev         2\n",
       "Col         2\n",
       "Dr          1\n",
       "Ms          1\n",
       "Dona        1\n",
       "Name: Prefix, dtype: int64"
      ]
     },
     "execution_count": 13,
     "metadata": {},
     "output_type": "execute_result"
    }
   ],
   "source": [
    "test[\"Prefix\"].value_counts()"
   ]
  },
  {
   "cell_type": "markdown",
   "metadata": {},
   "source": [
    "추출된 Prefix를 학습에 사용할 수 있도록 int화 시켜줍니다."
   ]
  },
  {
   "cell_type": "code",
   "execution_count": 14,
   "metadata": {},
   "outputs": [],
   "source": [
    "pre_dict = {\"Mr\":0, \"Miss\":1, \"Mrs\":2, \"Master\":3, \"Dr\":4, \"Rev\":4, \"Major\":4, \"Col\":4, \"Mlle\":4, \"Ms\":4, \"Countess\":4, \"Jonkheer\":4, \"Lady\":4, \"Capt\":4, \"Don\":4, \"Sir\":4, \"Mme\":4, \"Dona\":4}\n",
    "train[\"Prefix\"] = train[\"Prefix\"].map(pre_dict)\n",
    "test[\"Prefix\"] = test[\"Prefix\"].map(pre_dict)"
   ]
  },
  {
   "cell_type": "code",
   "execution_count": 15,
   "metadata": {},
   "outputs": [
    {
     "data": {
      "text/plain": [
       "0    517\n",
       "1    182\n",
       "2    125\n",
       "3     40\n",
       "4     27\n",
       "Name: Prefix, dtype: int64"
      ]
     },
     "execution_count": 15,
     "metadata": {},
     "output_type": "execute_result"
    }
   ],
   "source": [
    "train[\"Prefix\"].value_counts()"
   ]
  },
  {
   "cell_type": "code",
   "execution_count": 16,
   "metadata": {},
   "outputs": [
    {
     "data": {
      "text/plain": [
       "0    240\n",
       "1     78\n",
       "2     72\n",
       "3     21\n",
       "4      7\n",
       "Name: Prefix, dtype: int64"
      ]
     },
     "execution_count": 16,
     "metadata": {},
     "output_type": "execute_result"
    }
   ],
   "source": [
    "test[\"Prefix\"].value_counts()"
   ]
  },
  {
   "cell_type": "markdown",
   "metadata": {},
   "source": [
    "Embarked column의 결측치를 채워넣음. Embarked의 경우, 절대적 다수인 \"S\"로 채워줍니다. Test의 경우에는 Embarked Column에 결측치가 없으므로 Train 데이터에만 작업을 진행합니다."
   ]
  },
  {
   "cell_type": "code",
   "execution_count": 17,
   "metadata": {},
   "outputs": [],
   "source": [
    "train[\"Embarked\"].fillna(train[\"Embarked\"].mode()[0], inplace=True)"
   ]
  },
  {
   "cell_type": "markdown",
   "metadata": {},
   "source": [
    "Age의 경우, Prefix에 따라 Age 평균의 편차가 크므로, 각 Prefix의 평균치를 입력해줍니다.  \n",
    "Test의 경우는 Train에서의 평균치를 삽입해줍니다."
   ]
  },
  {
   "cell_type": "code",
   "execution_count": 18,
   "metadata": {},
   "outputs": [
    {
     "data": {
      "text/plain": [
       "<AxesSubplot:xlabel='Prefix', ylabel='Age'>"
      ]
     },
     "execution_count": 18,
     "metadata": {},
     "output_type": "execute_result"
    },
    {
     "data": {
      "image/png": "[encoded data removed]",
      "text/plain": [
       "<Figure size 432x288 with 1 Axes>"
      ]
     },
     "metadata": {
      "needs_background": "light"
     },
     "output_type": "display_data"
    }
   ],
   "source": [
    "sb.barplot(x=\"Prefix\", y=\"Age\", ci=None, data= train)"
   ]
  },
  {
   "cell_type": "code",
   "execution_count": 19,
   "metadata": {},
   "outputs": [],
   "source": [
    "train[\"Age\"].fillna(train.groupby(\"Prefix\")[\"Age\"].transform(\"mean\"), inplace=True)\n",
    "\n",
    "# for test\n",
    "for idx in range(len(test)):\n",
    "    if np.isnan(test[\"Age\"][idx]):\n",
    "        test[\"Age\"][idx] = train[train[\"Prefix\"] == test[\"Prefix\"][idx]][\"Age\"].mean()"
   ]
  },
  {
   "cell_type": "markdown",
   "metadata": {},
   "source": [
    "Test에 있는 Fare의 평균치는 Train test Fare의 평균치를 넣어 결측치를 없애줍니다."
   ]
  },
  {
   "cell_type": "code",
   "execution_count": 20,
   "metadata": {},
   "outputs": [],
   "source": [
    "test[\"Fare\"].fillna(32.204208, inplace=True)"
   ]
  },
  {
   "cell_type": "markdown",
   "metadata": {},
   "source": [
    "현재 str 되어있는 Sex와 Embarked column또한 모델이 인식할 수 있도록 int화 시킴."
   ]
  },
  {
   "cell_type": "code",
   "execution_count": 21,
   "metadata": {},
   "outputs": [],
   "source": [
    "s_dict = {\"male\":0, \"female\":1}\n",
    "train[\"Sex\"] = train[\"Sex\"].map(s_dict)\n",
    "test[\"Sex\"] = test[\"Sex\"].map(s_dict)"
   ]
  },
  {
   "cell_type": "code",
   "execution_count": 22,
   "metadata": {},
   "outputs": [],
   "source": [
    "ebk_dict = {\"S\": 0, \"C\": 1, \"Q\": 2}\n",
    "train[\"Embarked\"] = train[\"Embarked\"].map(ebk_dict)\n",
    "test[\"Embarked\"] = test[\"Embarked\"].map(ebk_dict)"
   ]
  },
  {
   "cell_type": "markdown",
   "metadata": {},
   "source": [
    "이후 필요없는 label의 경우 drop을 시켜줍니다."
   ]
  },
  {
   "cell_type": "code",
   "execution_count": 23,
   "metadata": {},
   "outputs": [],
   "source": [
    "train.drop([\"PassengerId\", \"Name\", \"Cabin\", \"Ticket\"], axis=1, inplace=True)\n",
    "test.drop([\"Name\", \"Cabin\", \"Ticket\"], axis=1, inplace=True)"
   ]
  },
  {
   "cell_type": "markdown",
   "metadata": {},
   "source": [
    "Age와 Fare는 범위가 넓기때문에 4개의 범위로 grouping을 진행합니다."
   ]
  },
  {
   "cell_type": "code",
   "execution_count": 24,
   "metadata": {},
   "outputs": [],
   "source": [
    "train.loc[train[\"Age\"] <=22.0, \"Age\"] = 0\n",
    "train.loc[(train[\"Age\"] >22.0) & (train[\"Age\"] <= 28.0), \"Age\"] = 1\n",
    "train.loc[(train[\"Age\"] >28.0) & (train[\"Age\"] <= 35.0), \"Age\"] = 2\n",
    "train.loc[train[\"Age\"] > 35.0, \"Age\"] = 3\n",
    "\n",
    "train.loc[train[\"Fare\"] <= 7.91, \"Fare\"] = 0\n",
    "train.loc[(train[\"Fare\"] > 7.91) & (train[\"Fare\"] <= 14.4542), \"Fare\"] = 1\n",
    "train.loc[(train[\"Fare\"] > 14.4542) & (train[\"Fare\"] <= 31), \"Fare\"] = 2\n",
    "train.loc[train[\"Fare\"] > 31, \"Fare\"] = 3\n",
    "train[\"Age\"] = train[\"Age\"].astype(\"int64\")\n",
    "train[\"Fare\"] = train[\"Fare\"].astype(\"int64\")\n",
    "\n",
    "\n",
    "test.loc[test[\"Age\"] <= 22.0, \"Age\"] = 0\n",
    "test.loc[(test[\"Age\"] > 22.0) & (test[\"Age\"] <= 28.0), \"Age\"] = 1\n",
    "test.loc[(test[\"Age\"] > 28.0) & (test[\"Age\"] <= 35.0), \"Age\"] = 2\n",
    "test.loc[test[\"Age\"] > 35, \"Age\"] = 3\n",
    "\n",
    "test.loc[test[\"Fare\"] <= 7.91, \"Fare\"] = 0\n",
    "test.loc[(test[\"Fare\"] > 7.91) & (test[\"Fare\"] <= 14.4542), \"Fare\"] = 1\n",
    "test.loc[(test[\"Fare\"] > 14.4542) & (test[\"Fare\"] <= 31), \"Fare\"] = 2\n",
    "test.loc[test[\"Fare\"] > 31, \"Fare\"] = 3\n",
    "\n",
    "test[\"Age\"] = test[\"Age\"].astype(\"int64\")\n",
    "test[\"Fare\"] = test[\"Fare\"].astype(\"int64\")"
   ]
  },
  {
   "cell_type": "code",
   "execution_count": 25,
   "metadata": {},
   "outputs": [
    {
     "name": "stdout",
     "output_type": "stream",
     "text": [
      "<class 'pandas.core.frame.DataFrame'>\n",
      "RangeIndex: 891 entries, 0 to 890\n",
      "Data columns (total 9 columns):\n",
      " #   Column    Non-Null Count  Dtype\n",
      "---  ------    --------------  -----\n",
      " 0   Survived  891 non-null    int64\n",
      " 1   Pclass    891 non-null    int64\n",
      " 2   Sex       891 non-null    int64\n",
      " 3   Age       891 non-null    int64\n",
      " 4   SibSp     891 non-null    int64\n",
      " 5   Parch     891 non-null    int64\n",
      " 6   Fare      891 non-null    int64\n",
      " 7   Embarked  891 non-null    int64\n",
      " 8   Prefix    891 non-null    int64\n",
      "dtypes: int64(9)\n",
      "memory usage: 62.8 KB\n"
     ]
    }
   ],
   "source": [
    "train.info()"
   ]
  },
  {
   "cell_type": "code",
   "execution_count": 26,
   "metadata": {},
   "outputs": [
    {
     "name": "stdout",
     "output_type": "stream",
     "text": [
      "<class 'pandas.core.frame.DataFrame'>\n",
      "RangeIndex: 418 entries, 0 to 417\n",
      "Data columns (total 9 columns):\n",
      " #   Column       Non-Null Count  Dtype\n",
      "---  ------       --------------  -----\n",
      " 0   PassengerId  418 non-null    int64\n",
      " 1   Pclass       418 non-null    int64\n",
      " 2   Sex          418 non-null    int64\n",
      " 3   Age          418 non-null    int64\n",
      " 4   SibSp        418 non-null    int64\n",
      " 5   Parch        418 non-null    int64\n",
      " 6   Fare         418 non-null    int64\n",
      " 7   Embarked     418 non-null    int64\n",
      " 8   Prefix       418 non-null    int64\n",
      "dtypes: int64(9)\n",
      "memory usage: 29.5 KB\n"
     ]
    }
   ],
   "source": [
    "test.info()"
   ]
  },
  {
   "cell_type": "markdown",
   "metadata": {},
   "source": [
    "데이터 전처리 후 Correlation 확인"
   ]
  },
  {
   "cell_type": "code",
   "execution_count": 27,
   "metadata": {},
   "outputs": [
    {
     "data": {
      "text/plain": [
       "<AxesSubplot:>"
      ]
     },
     "execution_count": 27,
     "metadata": {},
     "output_type": "execute_result"
    },
    {
     "data": {
      "image/png": "[encoded data removed]",
      "text/plain": [
       "<Figure size 1080x1080 with 2 Axes>"
      ]
     },
     "metadata": {
      "needs_background": "light"
     },
     "output_type": "display_data"
    }
   ],
   "source": [
    "plt.figure(figsize=(15,15))\n",
    "sb.heatmap(data=train.corr(), annot=True, fmt='.2f', linewidths=.5, cmap='Blues')"
   ]
  },
  {
   "cell_type": "markdown",
   "metadata": {},
   "source": [
    "Correlation 0.3이상의 column을 제외한 데이터 drop"
   ]
  },
  {
   "cell_type": "code",
   "execution_count": 28,
   "metadata": {},
   "outputs": [
    {
     "data": {
      "text/html": [
       "<div>\n",
       "<style scoped>\n",
       "    .dataframe tbody tr th:only-of-type {\n",
       "        vertical-align: middle;\n",
       "    }\n",
       "\n",
       "    .dataframe tbody tr th {\n",
       "        vertical-align: top;\n",
       "    }\n",
       "\n",
       "    .dataframe thead th {\n",
       "        text-align: right;\n",
       "    }\n",
       "</style>\n",
       "<table border=\"1\" class=\"dataframe\">\n",
       "  <thead>\n",
       "    <tr style=\"text-align: right;\">\n",
       "      <th></th>\n",
       "      <th>PassengerId</th>\n",
       "      <th>Pclass</th>\n",
       "      <th>Sex</th>\n",
       "      <th>Fare</th>\n",
       "      <th>Prefix</th>\n",
       "    </tr>\n",
       "  </thead>\n",
       "  <tbody>\n",
       "    <tr>\n",
       "      <th>0</th>\n",
       "      <td>892</td>\n",
       "      <td>3</td>\n",
       "      <td>0</td>\n",
       "      <td>0</td>\n",
       "      <td>0</td>\n",
       "    </tr>\n",
       "    <tr>\n",
       "      <th>1</th>\n",
       "      <td>893</td>\n",
       "      <td>3</td>\n",
       "      <td>1</td>\n",
       "      <td>0</td>\n",
       "      <td>2</td>\n",
       "    </tr>\n",
       "    <tr>\n",
       "      <th>2</th>\n",
       "      <td>894</td>\n",
       "      <td>2</td>\n",
       "      <td>0</td>\n",
       "      <td>1</td>\n",
       "      <td>0</td>\n",
       "    </tr>\n",
       "    <tr>\n",
       "      <th>3</th>\n",
       "      <td>895</td>\n",
       "      <td>3</td>\n",
       "      <td>0</td>\n",
       "      <td>1</td>\n",
       "      <td>0</td>\n",
       "    </tr>\n",
       "    <tr>\n",
       "      <th>4</th>\n",
       "      <td>896</td>\n",
       "      <td>3</td>\n",
       "      <td>1</td>\n",
       "      <td>1</td>\n",
       "      <td>2</td>\n",
       "    </tr>\n",
       "    <tr>\n",
       "      <th>...</th>\n",
       "      <td>...</td>\n",
       "      <td>...</td>\n",
       "      <td>...</td>\n",
       "      <td>...</td>\n",
       "      <td>...</td>\n",
       "    </tr>\n",
       "    <tr>\n",
       "      <th>413</th>\n",
       "      <td>1305</td>\n",
       "      <td>3</td>\n",
       "      <td>0</td>\n",
       "      <td>1</td>\n",
       "      <td>0</td>\n",
       "    </tr>\n",
       "    <tr>\n",
       "      <th>414</th>\n",
       "      <td>1306</td>\n",
       "      <td>1</td>\n",
       "      <td>1</td>\n",
       "      <td>3</td>\n",
       "      <td>4</td>\n",
       "    </tr>\n",
       "    <tr>\n",
       "      <th>415</th>\n",
       "      <td>1307</td>\n",
       "      <td>3</td>\n",
       "      <td>0</td>\n",
       "      <td>0</td>\n",
       "      <td>0</td>\n",
       "    </tr>\n",
       "    <tr>\n",
       "      <th>416</th>\n",
       "      <td>1308</td>\n",
       "      <td>3</td>\n",
       "      <td>0</td>\n",
       "      <td>1</td>\n",
       "      <td>0</td>\n",
       "    </tr>\n",
       "    <tr>\n",
       "      <th>417</th>\n",
       "      <td>1309</td>\n",
       "      <td>3</td>\n",
       "      <td>0</td>\n",
       "      <td>2</td>\n",
       "      <td>3</td>\n",
       "    </tr>\n",
       "  </tbody>\n",
       "</table>\n",
       "<p>418 rows × 5 columns</p>\n",
       "</div>"
      ],
      "text/plain": [
       "     PassengerId  Pclass  Sex  Fare  Prefix\n",
       "0            892       3    0     0       0\n",
       "1            893       3    1     0       2\n",
       "2            894       2    0     1       0\n",
       "3            895       3    0     1       0\n",
       "4            896       3    1     1       2\n",
       "..           ...     ...  ...   ...     ...\n",
       "413         1305       3    0     1       0\n",
       "414         1306       1    1     3       4\n",
       "415         1307       3    0     0       0\n",
       "416         1308       3    0     1       0\n",
       "417         1309       3    0     2       3\n",
       "\n",
       "[418 rows x 5 columns]"
      ]
     },
     "execution_count": 28,
     "metadata": {},
     "output_type": "execute_result"
    }
   ],
   "source": [
    "drop_list = ['Embarked', 'Parch', 'SibSp', 'Age']\n",
    "train.drop(drop_list, axis=1)\n",
    "test.drop(drop_list, axis=1)"
   ]
  },
  {
   "cell_type": "markdown",
   "metadata": {},
   "source": [
    "### 4. Train and Predict"
   ]
  },
  {
   "cell_type": "code",
   "execution_count": 29,
   "metadata": {},
   "outputs": [],
   "source": [
    "# Classification module\n",
    "from sklearn.linear_model import LogisticRegression, RidgeClassifier\n",
    "from sklearn.svm import SVC\n",
    "from sklearn.neighbors import KNeighborsClassifier\n",
    "from sklearn.tree import DecisionTreeClassifier\n",
    "from sklearn.ensemble import RandomForestClassifier\n",
    "from sklearn.discriminant_analysis import LinearDiscriminantAnalysis as LDA"
   ]
  },
  {
   "cell_type": "code",
   "execution_count": 30,
   "metadata": {},
   "outputs": [],
   "source": [
    "y_train = train[\"Survived\"]\n",
    "x_train = train.drop(['Survived'], axis=1)"
   ]
  },
  {
   "cell_type": "code",
   "execution_count": 31,
   "metadata": {},
   "outputs": [
    {
     "name": "stdout",
     "output_type": "stream",
     "text": [
      "Logistic regression Score: 0.8148148148148148\n"
     ]
    }
   ],
   "source": [
    "# Logistic Regression\n",
    "logis = LogisticRegression()\n",
    "logis.fit(x_train, y_train)\n",
    "logis_score = logis.score(x_train, y_train)\n",
    "print(f\"Logistic regression Score: {logis_score}\")"
   ]
  },
  {
   "cell_type": "code",
   "execution_count": 32,
   "metadata": {},
   "outputs": [
    {
     "name": "stdout",
     "output_type": "stream",
     "text": [
      "SVM score: 0.835016835016835\n"
     ]
    }
   ],
   "source": [
    "# Support Vector Machine(SVM)\n",
    "svm = SVC()\n",
    "svm.fit(x_train, y_train)\n",
    "svm_score = svm.score(x_train, y_train)\n",
    "print(f\"SVM score: {svm_score}\")"
   ]
  },
  {
   "cell_type": "code",
   "execution_count": 33,
   "metadata": {},
   "outputs": [
    {
     "name": "stdout",
     "output_type": "stream",
     "text": [
      "KNN score: 0.8271604938271605\n"
     ]
    }
   ],
   "source": [
    "knn = KNeighborsClassifier(n_neighbors=2)\n",
    "knn.fit(x_train, y_train)\n",
    "knn_score = knn.score(x_train, y_train)\n",
    "print(f\"KNN score: {knn_score}\")"
   ]
  },
  {
   "cell_type": "code",
   "execution_count": 34,
   "metadata": {},
   "outputs": [
    {
     "name": "stdout",
     "output_type": "stream",
     "text": [
      "Decision Tree Score: 0.8866442199775533\n"
     ]
    }
   ],
   "source": [
    "tree = DecisionTreeClassifier()\n",
    "tree.fit(x_train, y_train)\n",
    "tree_score = tree.score(x_train, y_train)\n",
    "print(f\"Decision Tree Score: {tree_score}\")"
   ]
  },
  {
   "cell_type": "code",
   "execution_count": 35,
   "metadata": {},
   "outputs": [
    {
     "name": "stdout",
     "output_type": "stream",
     "text": [
      "Random Forest score: 0.8866442199775533\n"
     ]
    }
   ],
   "source": [
    "forest = RandomForestClassifier()\n",
    "forest.fit(x_train, y_train)\n",
    "forest_score = forest.score(x_train, y_train)\n",
    "print(f\"Random Forest score: {forest_score}\")"
   ]
  },
  {
   "cell_type": "code",
   "execution_count": 36,
   "metadata": {},
   "outputs": [
    {
     "name": "stdout",
     "output_type": "stream",
     "text": [
      "LDA score: 0.8035914702581369\n"
     ]
    }
   ],
   "source": [
    "lda = LDA()\n",
    "lda.fit(x_train, y_train)\n",
    "lda_score = lda.score(x_train, y_train)\n",
    "print(f\"LDA score: {lda_score}\")"
   ]
  },
  {
   "cell_type": "code",
   "execution_count": 37,
   "metadata": {},
   "outputs": [
    {
     "name": "stdout",
     "output_type": "stream",
     "text": [
      "Ridge score: 0.8035914702581369\n"
     ]
    }
   ],
   "source": [
    "ridge = RidgeClassifier()\n",
    "ridge.fit(x_train, y_train)\n",
    "ridge_score = ridge.score(x_train, y_train)\n",
    "print(f\"Ridge score: {ridge_score}\")"
   ]
  },
  {
   "cell_type": "code",
   "execution_count": 38,
   "metadata": {},
   "outputs": [],
   "source": [
    "test_pred = test.copy()\n",
    "test_pred = test_pred.drop(\"PassengerId\", axis= 1)"
   ]
  },
  {
   "cell_type": "code",
   "execution_count": 54,
   "metadata": {},
   "outputs": [],
   "source": [
    "y_pred = forest.predict(test_pred)\n",
    "submission = pd.DataFrame({\"PassengerId\" : test[\"PassengerId\"], \"Survived\":y_pred})\n",
    "submission.to_csv(\"submission.csv\", index=False)"
   ]
  },
  {
   "cell_type": "markdown",
   "metadata": {},
   "source": [
    "### 5. Train with K-Fold"
   ]
  },
  {
   "cell_type": "code",
   "execution_count": 40,
   "metadata": {},
   "outputs": [],
   "source": [
    "from sklearn.model_selection import KFold\n",
    "from sklearn.model_selection import cross_val_score"
   ]
  },
  {
   "cell_type": "code",
   "execution_count": 41,
   "metadata": {},
   "outputs": [],
   "source": [
    "# AutoML\n",
    "from pycaret import classification"
   ]
  },
  {
   "cell_type": "code",
   "execution_count": 42,
   "metadata": {},
   "outputs": [
    {
     "data": {
      "text/html": [
       "<style  type=\"text/css\" >\n",
       "#T_075339fe_2ebe_11ed_85d9_0242ac110002row44_col1{\n",
       "            background-color:  lightgreen;\n",
       "        }</style><table id=\"T_075339fe_2ebe_11ed_85d9_0242ac110002\" ><thead>    <tr>        <th class=\"blank level0\" ></th>        <th class=\"col_heading level0 col0\" >Description</th>        <th class=\"col_heading level0 col1\" >Value</th>    </tr></thead><tbody>\n",
       "                <tr>\n",
       "                        <th id=\"T_075339fe_2ebe_11ed_85d9_0242ac110002level0_row0\" class=\"row_heading level0 row0\" >0</th>\n",
       "                        <td id=\"T_075339fe_2ebe_11ed_85d9_0242ac110002row0_col0\" class=\"data row0 col0\" >session_id</td>\n",
       "                        <td id=\"T_075339fe_2ebe_11ed_85d9_0242ac110002row0_col1\" class=\"data row0 col1\" >5301</td>\n",
       "            </tr>\n",
       "            <tr>\n",
       "                        <th id=\"T_075339fe_2ebe_11ed_85d9_0242ac110002level0_row1\" class=\"row_heading level0 row1\" >1</th>\n",
       "                        <td id=\"T_075339fe_2ebe_11ed_85d9_0242ac110002row1_col0\" class=\"data row1 col0\" >Target</td>\n",
       "                        <td id=\"T_075339fe_2ebe_11ed_85d9_0242ac110002row1_col1\" class=\"data row1 col1\" >Survived</td>\n",
       "            </tr>\n",
       "            <tr>\n",
       "                        <th id=\"T_075339fe_2ebe_11ed_85d9_0242ac110002level0_row2\" class=\"row_heading level0 row2\" >2</th>\n",
       "                        <td id=\"T_075339fe_2ebe_11ed_85d9_0242ac110002row2_col0\" class=\"data row2 col0\" >Target Type</td>\n",
       "                        <td id=\"T_075339fe_2ebe_11ed_85d9_0242ac110002row2_col1\" class=\"data row2 col1\" >Binary</td>\n",
       "            </tr>\n",
       "            <tr>\n",
       "                        <th id=\"T_075339fe_2ebe_11ed_85d9_0242ac110002level0_row3\" class=\"row_heading level0 row3\" >3</th>\n",
       "                        <td id=\"T_075339fe_2ebe_11ed_85d9_0242ac110002row3_col0\" class=\"data row3 col0\" >Label Encoded</td>\n",
       "                        <td id=\"T_075339fe_2ebe_11ed_85d9_0242ac110002row3_col1\" class=\"data row3 col1\" >None</td>\n",
       "            </tr>\n",
       "            <tr>\n",
       "                        <th id=\"T_075339fe_2ebe_11ed_85d9_0242ac110002level0_row4\" class=\"row_heading level0 row4\" >4</th>\n",
       "                        <td id=\"T_075339fe_2ebe_11ed_85d9_0242ac110002row4_col0\" class=\"data row4 col0\" >Original Data</td>\n",
       "                        <td id=\"T_075339fe_2ebe_11ed_85d9_0242ac110002row4_col1\" class=\"data row4 col1\" >(891, 9)</td>\n",
       "            </tr>\n",
       "            <tr>\n",
       "                        <th id=\"T_075339fe_2ebe_11ed_85d9_0242ac110002level0_row5\" class=\"row_heading level0 row5\" >5</th>\n",
       "                        <td id=\"T_075339fe_2ebe_11ed_85d9_0242ac110002row5_col0\" class=\"data row5 col0\" >Missing Values</td>\n",
       "                        <td id=\"T_075339fe_2ebe_11ed_85d9_0242ac110002row5_col1\" class=\"data row5 col1\" >False</td>\n",
       "            </tr>\n",
       "            <tr>\n",
       "                        <th id=\"T_075339fe_2ebe_11ed_85d9_0242ac110002level0_row6\" class=\"row_heading level0 row6\" >6</th>\n",
       "                        <td id=\"T_075339fe_2ebe_11ed_85d9_0242ac110002row6_col0\" class=\"data row6 col0\" >Numeric Features</td>\n",
       "                        <td id=\"T_075339fe_2ebe_11ed_85d9_0242ac110002row6_col1\" class=\"data row6 col1\" >0</td>\n",
       "            </tr>\n",
       "            <tr>\n",
       "                        <th id=\"T_075339fe_2ebe_11ed_85d9_0242ac110002level0_row7\" class=\"row_heading level0 row7\" >7</th>\n",
       "                        <td id=\"T_075339fe_2ebe_11ed_85d9_0242ac110002row7_col0\" class=\"data row7 col0\" >Categorical Features</td>\n",
       "                        <td id=\"T_075339fe_2ebe_11ed_85d9_0242ac110002row7_col1\" class=\"data row7 col1\" >8</td>\n",
       "            </tr>\n",
       "            <tr>\n",
       "                        <th id=\"T_075339fe_2ebe_11ed_85d9_0242ac110002level0_row8\" class=\"row_heading level0 row8\" >8</th>\n",
       "                        <td id=\"T_075339fe_2ebe_11ed_85d9_0242ac110002row8_col0\" class=\"data row8 col0\" >Ordinal Features</td>\n",
       "                        <td id=\"T_075339fe_2ebe_11ed_85d9_0242ac110002row8_col1\" class=\"data row8 col1\" >False</td>\n",
       "            </tr>\n",
       "            <tr>\n",
       "                        <th id=\"T_075339fe_2ebe_11ed_85d9_0242ac110002level0_row9\" class=\"row_heading level0 row9\" >9</th>\n",
       "                        <td id=\"T_075339fe_2ebe_11ed_85d9_0242ac110002row9_col0\" class=\"data row9 col0\" >High Cardinality Features</td>\n",
       "                        <td id=\"T_075339fe_2ebe_11ed_85d9_0242ac110002row9_col1\" class=\"data row9 col1\" >False</td>\n",
       "            </tr>\n",
       "            <tr>\n",
       "                        <th id=\"T_075339fe_2ebe_11ed_85d9_0242ac110002level0_row10\" class=\"row_heading level0 row10\" >10</th>\n",
       "                        <td id=\"T_075339fe_2ebe_11ed_85d9_0242ac110002row10_col0\" class=\"data row10 col0\" >High Cardinality Method</td>\n",
       "                        <td id=\"T_075339fe_2ebe_11ed_85d9_0242ac110002row10_col1\" class=\"data row10 col1\" >None</td>\n",
       "            </tr>\n",
       "            <tr>\n",
       "                        <th id=\"T_075339fe_2ebe_11ed_85d9_0242ac110002level0_row11\" class=\"row_heading level0 row11\" >11</th>\n",
       "                        <td id=\"T_075339fe_2ebe_11ed_85d9_0242ac110002row11_col0\" class=\"data row11 col0\" >Transformed Train Set</td>\n",
       "                        <td id=\"T_075339fe_2ebe_11ed_85d9_0242ac110002row11_col1\" class=\"data row11 col1\" >(623, 34)</td>\n",
       "            </tr>\n",
       "            <tr>\n",
       "                        <th id=\"T_075339fe_2ebe_11ed_85d9_0242ac110002level0_row12\" class=\"row_heading level0 row12\" >12</th>\n",
       "                        <td id=\"T_075339fe_2ebe_11ed_85d9_0242ac110002row12_col0\" class=\"data row12 col0\" >Transformed Test Set</td>\n",
       "                        <td id=\"T_075339fe_2ebe_11ed_85d9_0242ac110002row12_col1\" class=\"data row12 col1\" >(268, 34)</td>\n",
       "            </tr>\n",
       "            <tr>\n",
       "                        <th id=\"T_075339fe_2ebe_11ed_85d9_0242ac110002level0_row13\" class=\"row_heading level0 row13\" >13</th>\n",
       "                        <td id=\"T_075339fe_2ebe_11ed_85d9_0242ac110002row13_col0\" class=\"data row13 col0\" >Shuffle Train-Test</td>\n",
       "                        <td id=\"T_075339fe_2ebe_11ed_85d9_0242ac110002row13_col1\" class=\"data row13 col1\" >True</td>\n",
       "            </tr>\n",
       "            <tr>\n",
       "                        <th id=\"T_075339fe_2ebe_11ed_85d9_0242ac110002level0_row14\" class=\"row_heading level0 row14\" >14</th>\n",
       "                        <td id=\"T_075339fe_2ebe_11ed_85d9_0242ac110002row14_col0\" class=\"data row14 col0\" >Stratify Train-Test</td>\n",
       "                        <td id=\"T_075339fe_2ebe_11ed_85d9_0242ac110002row14_col1\" class=\"data row14 col1\" >False</td>\n",
       "            </tr>\n",
       "            <tr>\n",
       "                        <th id=\"T_075339fe_2ebe_11ed_85d9_0242ac110002level0_row15\" class=\"row_heading level0 row15\" >15</th>\n",
       "                        <td id=\"T_075339fe_2ebe_11ed_85d9_0242ac110002row15_col0\" class=\"data row15 col0\" >Fold Generator</td>\n",
       "                        <td id=\"T_075339fe_2ebe_11ed_85d9_0242ac110002row15_col1\" class=\"data row15 col1\" >StratifiedKFold</td>\n",
       "            </tr>\n",
       "            <tr>\n",
       "                        <th id=\"T_075339fe_2ebe_11ed_85d9_0242ac110002level0_row16\" class=\"row_heading level0 row16\" >16</th>\n",
       "                        <td id=\"T_075339fe_2ebe_11ed_85d9_0242ac110002row16_col0\" class=\"data row16 col0\" >Fold Number</td>\n",
       "                        <td id=\"T_075339fe_2ebe_11ed_85d9_0242ac110002row16_col1\" class=\"data row16 col1\" >10</td>\n",
       "            </tr>\n",
       "            <tr>\n",
       "                        <th id=\"T_075339fe_2ebe_11ed_85d9_0242ac110002level0_row17\" class=\"row_heading level0 row17\" >17</th>\n",
       "                        <td id=\"T_075339fe_2ebe_11ed_85d9_0242ac110002row17_col0\" class=\"data row17 col0\" >CPU Jobs</td>\n",
       "                        <td id=\"T_075339fe_2ebe_11ed_85d9_0242ac110002row17_col1\" class=\"data row17 col1\" >-1</td>\n",
       "            </tr>\n",
       "            <tr>\n",
       "                        <th id=\"T_075339fe_2ebe_11ed_85d9_0242ac110002level0_row18\" class=\"row_heading level0 row18\" >18</th>\n",
       "                        <td id=\"T_075339fe_2ebe_11ed_85d9_0242ac110002row18_col0\" class=\"data row18 col0\" >Use GPU</td>\n",
       "                        <td id=\"T_075339fe_2ebe_11ed_85d9_0242ac110002row18_col1\" class=\"data row18 col1\" >False</td>\n",
       "            </tr>\n",
       "            <tr>\n",
       "                        <th id=\"T_075339fe_2ebe_11ed_85d9_0242ac110002level0_row19\" class=\"row_heading level0 row19\" >19</th>\n",
       "                        <td id=\"T_075339fe_2ebe_11ed_85d9_0242ac110002row19_col0\" class=\"data row19 col0\" >Log Experiment</td>\n",
       "                        <td id=\"T_075339fe_2ebe_11ed_85d9_0242ac110002row19_col1\" class=\"data row19 col1\" >False</td>\n",
       "            </tr>\n",
       "            <tr>\n",
       "                        <th id=\"T_075339fe_2ebe_11ed_85d9_0242ac110002level0_row20\" class=\"row_heading level0 row20\" >20</th>\n",
       "                        <td id=\"T_075339fe_2ebe_11ed_85d9_0242ac110002row20_col0\" class=\"data row20 col0\" >Experiment Name</td>\n",
       "                        <td id=\"T_075339fe_2ebe_11ed_85d9_0242ac110002row20_col1\" class=\"data row20 col1\" >clf-default-name</td>\n",
       "            </tr>\n",
       "            <tr>\n",
       "                        <th id=\"T_075339fe_2ebe_11ed_85d9_0242ac110002level0_row21\" class=\"row_heading level0 row21\" >21</th>\n",
       "                        <td id=\"T_075339fe_2ebe_11ed_85d9_0242ac110002row21_col0\" class=\"data row21 col0\" >USI</td>\n",
       "                        <td id=\"T_075339fe_2ebe_11ed_85d9_0242ac110002row21_col1\" class=\"data row21 col1\" >f813</td>\n",
       "            </tr>\n",
       "            <tr>\n",
       "                        <th id=\"T_075339fe_2ebe_11ed_85d9_0242ac110002level0_row22\" class=\"row_heading level0 row22\" >22</th>\n",
       "                        <td id=\"T_075339fe_2ebe_11ed_85d9_0242ac110002row22_col0\" class=\"data row22 col0\" >Imputation Type</td>\n",
       "                        <td id=\"T_075339fe_2ebe_11ed_85d9_0242ac110002row22_col1\" class=\"data row22 col1\" >simple</td>\n",
       "            </tr>\n",
       "            <tr>\n",
       "                        <th id=\"T_075339fe_2ebe_11ed_85d9_0242ac110002level0_row23\" class=\"row_heading level0 row23\" >23</th>\n",
       "                        <td id=\"T_075339fe_2ebe_11ed_85d9_0242ac110002row23_col0\" class=\"data row23 col0\" >Iterative Imputation Iteration</td>\n",
       "                        <td id=\"T_075339fe_2ebe_11ed_85d9_0242ac110002row23_col1\" class=\"data row23 col1\" >None</td>\n",
       "            </tr>\n",
       "            <tr>\n",
       "                        <th id=\"T_075339fe_2ebe_11ed_85d9_0242ac110002level0_row24\" class=\"row_heading level0 row24\" >24</th>\n",
       "                        <td id=\"T_075339fe_2ebe_11ed_85d9_0242ac110002row24_col0\" class=\"data row24 col0\" >Numeric Imputer</td>\n",
       "                        <td id=\"T_075339fe_2ebe_11ed_85d9_0242ac110002row24_col1\" class=\"data row24 col1\" >mean</td>\n",
       "            </tr>\n",
       "            <tr>\n",
       "                        <th id=\"T_075339fe_2ebe_11ed_85d9_0242ac110002level0_row25\" class=\"row_heading level0 row25\" >25</th>\n",
       "                        <td id=\"T_075339fe_2ebe_11ed_85d9_0242ac110002row25_col0\" class=\"data row25 col0\" >Iterative Imputation Numeric Model</td>\n",
       "                        <td id=\"T_075339fe_2ebe_11ed_85d9_0242ac110002row25_col1\" class=\"data row25 col1\" >None</td>\n",
       "            </tr>\n",
       "            <tr>\n",
       "                        <th id=\"T_075339fe_2ebe_11ed_85d9_0242ac110002level0_row26\" class=\"row_heading level0 row26\" >26</th>\n",
       "                        <td id=\"T_075339fe_2ebe_11ed_85d9_0242ac110002row26_col0\" class=\"data row26 col0\" >Categorical Imputer</td>\n",
       "                        <td id=\"T_075339fe_2ebe_11ed_85d9_0242ac110002row26_col1\" class=\"data row26 col1\" >constant</td>\n",
       "            </tr>\n",
       "            <tr>\n",
       "                        <th id=\"T_075339fe_2ebe_11ed_85d9_0242ac110002level0_row27\" class=\"row_heading level0 row27\" >27</th>\n",
       "                        <td id=\"T_075339fe_2ebe_11ed_85d9_0242ac110002row27_col0\" class=\"data row27 col0\" >Iterative Imputation Categorical Model</td>\n",
       "                        <td id=\"T_075339fe_2ebe_11ed_85d9_0242ac110002row27_col1\" class=\"data row27 col1\" >None</td>\n",
       "            </tr>\n",
       "            <tr>\n",
       "                        <th id=\"T_075339fe_2ebe_11ed_85d9_0242ac110002level0_row28\" class=\"row_heading level0 row28\" >28</th>\n",
       "                        <td id=\"T_075339fe_2ebe_11ed_85d9_0242ac110002row28_col0\" class=\"data row28 col0\" >Unknown Categoricals Handling</td>\n",
       "                        <td id=\"T_075339fe_2ebe_11ed_85d9_0242ac110002row28_col1\" class=\"data row28 col1\" >least_frequent</td>\n",
       "            </tr>\n",
       "            <tr>\n",
       "                        <th id=\"T_075339fe_2ebe_11ed_85d9_0242ac110002level0_row29\" class=\"row_heading level0 row29\" >29</th>\n",
       "                        <td id=\"T_075339fe_2ebe_11ed_85d9_0242ac110002row29_col0\" class=\"data row29 col0\" >Normalize</td>\n",
       "                        <td id=\"T_075339fe_2ebe_11ed_85d9_0242ac110002row29_col1\" class=\"data row29 col1\" >False</td>\n",
       "            </tr>\n",
       "            <tr>\n",
       "                        <th id=\"T_075339fe_2ebe_11ed_85d9_0242ac110002level0_row30\" class=\"row_heading level0 row30\" >30</th>\n",
       "                        <td id=\"T_075339fe_2ebe_11ed_85d9_0242ac110002row30_col0\" class=\"data row30 col0\" >Normalize Method</td>\n",
       "                        <td id=\"T_075339fe_2ebe_11ed_85d9_0242ac110002row30_col1\" class=\"data row30 col1\" >None</td>\n",
       "            </tr>\n",
       "            <tr>\n",
       "                        <th id=\"T_075339fe_2ebe_11ed_85d9_0242ac110002level0_row31\" class=\"row_heading level0 row31\" >31</th>\n",
       "                        <td id=\"T_075339fe_2ebe_11ed_85d9_0242ac110002row31_col0\" class=\"data row31 col0\" >Transformation</td>\n",
       "                        <td id=\"T_075339fe_2ebe_11ed_85d9_0242ac110002row31_col1\" class=\"data row31 col1\" >False</td>\n",
       "            </tr>\n",
       "            <tr>\n",
       "                        <th id=\"T_075339fe_2ebe_11ed_85d9_0242ac110002level0_row32\" class=\"row_heading level0 row32\" >32</th>\n",
       "                        <td id=\"T_075339fe_2ebe_11ed_85d9_0242ac110002row32_col0\" class=\"data row32 col0\" >Transformation Method</td>\n",
       "                        <td id=\"T_075339fe_2ebe_11ed_85d9_0242ac110002row32_col1\" class=\"data row32 col1\" >None</td>\n",
       "            </tr>\n",
       "            <tr>\n",
       "                        <th id=\"T_075339fe_2ebe_11ed_85d9_0242ac110002level0_row33\" class=\"row_heading level0 row33\" >33</th>\n",
       "                        <td id=\"T_075339fe_2ebe_11ed_85d9_0242ac110002row33_col0\" class=\"data row33 col0\" >PCA</td>\n",
       "                        <td id=\"T_075339fe_2ebe_11ed_85d9_0242ac110002row33_col1\" class=\"data row33 col1\" >False</td>\n",
       "            </tr>\n",
       "            <tr>\n",
       "                        <th id=\"T_075339fe_2ebe_11ed_85d9_0242ac110002level0_row34\" class=\"row_heading level0 row34\" >34</th>\n",
       "                        <td id=\"T_075339fe_2ebe_11ed_85d9_0242ac110002row34_col0\" class=\"data row34 col0\" >PCA Method</td>\n",
       "                        <td id=\"T_075339fe_2ebe_11ed_85d9_0242ac110002row34_col1\" class=\"data row34 col1\" >None</td>\n",
       "            </tr>\n",
       "            <tr>\n",
       "                        <th id=\"T_075339fe_2ebe_11ed_85d9_0242ac110002level0_row35\" class=\"row_heading level0 row35\" >35</th>\n",
       "                        <td id=\"T_075339fe_2ebe_11ed_85d9_0242ac110002row35_col0\" class=\"data row35 col0\" >PCA Components</td>\n",
       "                        <td id=\"T_075339fe_2ebe_11ed_85d9_0242ac110002row35_col1\" class=\"data row35 col1\" >None</td>\n",
       "            </tr>\n",
       "            <tr>\n",
       "                        <th id=\"T_075339fe_2ebe_11ed_85d9_0242ac110002level0_row36\" class=\"row_heading level0 row36\" >36</th>\n",
       "                        <td id=\"T_075339fe_2ebe_11ed_85d9_0242ac110002row36_col0\" class=\"data row36 col0\" >Ignore Low Variance</td>\n",
       "                        <td id=\"T_075339fe_2ebe_11ed_85d9_0242ac110002row36_col1\" class=\"data row36 col1\" >False</td>\n",
       "            </tr>\n",
       "            <tr>\n",
       "                        <th id=\"T_075339fe_2ebe_11ed_85d9_0242ac110002level0_row37\" class=\"row_heading level0 row37\" >37</th>\n",
       "                        <td id=\"T_075339fe_2ebe_11ed_85d9_0242ac110002row37_col0\" class=\"data row37 col0\" >Combine Rare Levels</td>\n",
       "                        <td id=\"T_075339fe_2ebe_11ed_85d9_0242ac110002row37_col1\" class=\"data row37 col1\" >False</td>\n",
       "            </tr>\n",
       "            <tr>\n",
       "                        <th id=\"T_075339fe_2ebe_11ed_85d9_0242ac110002level0_row38\" class=\"row_heading level0 row38\" >38</th>\n",
       "                        <td id=\"T_075339fe_2ebe_11ed_85d9_0242ac110002row38_col0\" class=\"data row38 col0\" >Rare Level Threshold</td>\n",
       "                        <td id=\"T_075339fe_2ebe_11ed_85d9_0242ac110002row38_col1\" class=\"data row38 col1\" >None</td>\n",
       "            </tr>\n",
       "            <tr>\n",
       "                        <th id=\"T_075339fe_2ebe_11ed_85d9_0242ac110002level0_row39\" class=\"row_heading level0 row39\" >39</th>\n",
       "                        <td id=\"T_075339fe_2ebe_11ed_85d9_0242ac110002row39_col0\" class=\"data row39 col0\" >Numeric Binning</td>\n",
       "                        <td id=\"T_075339fe_2ebe_11ed_85d9_0242ac110002row39_col1\" class=\"data row39 col1\" >False</td>\n",
       "            </tr>\n",
       "            <tr>\n",
       "                        <th id=\"T_075339fe_2ebe_11ed_85d9_0242ac110002level0_row40\" class=\"row_heading level0 row40\" >40</th>\n",
       "                        <td id=\"T_075339fe_2ebe_11ed_85d9_0242ac110002row40_col0\" class=\"data row40 col0\" >Remove Outliers</td>\n",
       "                        <td id=\"T_075339fe_2ebe_11ed_85d9_0242ac110002row40_col1\" class=\"data row40 col1\" >False</td>\n",
       "            </tr>\n",
       "            <tr>\n",
       "                        <th id=\"T_075339fe_2ebe_11ed_85d9_0242ac110002level0_row41\" class=\"row_heading level0 row41\" >41</th>\n",
       "                        <td id=\"T_075339fe_2ebe_11ed_85d9_0242ac110002row41_col0\" class=\"data row41 col0\" >Outliers Threshold</td>\n",
       "                        <td id=\"T_075339fe_2ebe_11ed_85d9_0242ac110002row41_col1\" class=\"data row41 col1\" >None</td>\n",
       "            </tr>\n",
       "            <tr>\n",
       "                        <th id=\"T_075339fe_2ebe_11ed_85d9_0242ac110002level0_row42\" class=\"row_heading level0 row42\" >42</th>\n",
       "                        <td id=\"T_075339fe_2ebe_11ed_85d9_0242ac110002row42_col0\" class=\"data row42 col0\" >Remove Multicollinearity</td>\n",
       "                        <td id=\"T_075339fe_2ebe_11ed_85d9_0242ac110002row42_col1\" class=\"data row42 col1\" >False</td>\n",
       "            </tr>\n",
       "            <tr>\n",
       "                        <th id=\"T_075339fe_2ebe_11ed_85d9_0242ac110002level0_row43\" class=\"row_heading level0 row43\" >43</th>\n",
       "                        <td id=\"T_075339fe_2ebe_11ed_85d9_0242ac110002row43_col0\" class=\"data row43 col0\" >Multicollinearity Threshold</td>\n",
       "                        <td id=\"T_075339fe_2ebe_11ed_85d9_0242ac110002row43_col1\" class=\"data row43 col1\" >None</td>\n",
       "            </tr>\n",
       "            <tr>\n",
       "                        <th id=\"T_075339fe_2ebe_11ed_85d9_0242ac110002level0_row44\" class=\"row_heading level0 row44\" >44</th>\n",
       "                        <td id=\"T_075339fe_2ebe_11ed_85d9_0242ac110002row44_col0\" class=\"data row44 col0\" >Remove Perfect Collinearity</td>\n",
       "                        <td id=\"T_075339fe_2ebe_11ed_85d9_0242ac110002row44_col1\" class=\"data row44 col1\" >True</td>\n",
       "            </tr>\n",
       "            <tr>\n",
       "                        <th id=\"T_075339fe_2ebe_11ed_85d9_0242ac110002level0_row45\" class=\"row_heading level0 row45\" >45</th>\n",
       "                        <td id=\"T_075339fe_2ebe_11ed_85d9_0242ac110002row45_col0\" class=\"data row45 col0\" >Clustering</td>\n",
       "                        <td id=\"T_075339fe_2ebe_11ed_85d9_0242ac110002row45_col1\" class=\"data row45 col1\" >False</td>\n",
       "            </tr>\n",
       "            <tr>\n",
       "                        <th id=\"T_075339fe_2ebe_11ed_85d9_0242ac110002level0_row46\" class=\"row_heading level0 row46\" >46</th>\n",
       "                        <td id=\"T_075339fe_2ebe_11ed_85d9_0242ac110002row46_col0\" class=\"data row46 col0\" >Clustering Iteration</td>\n",
       "                        <td id=\"T_075339fe_2ebe_11ed_85d9_0242ac110002row46_col1\" class=\"data row46 col1\" >None</td>\n",
       "            </tr>\n",
       "            <tr>\n",
       "                        <th id=\"T_075339fe_2ebe_11ed_85d9_0242ac110002level0_row47\" class=\"row_heading level0 row47\" >47</th>\n",
       "                        <td id=\"T_075339fe_2ebe_11ed_85d9_0242ac110002row47_col0\" class=\"data row47 col0\" >Polynomial Features</td>\n",
       "                        <td id=\"T_075339fe_2ebe_11ed_85d9_0242ac110002row47_col1\" class=\"data row47 col1\" >False</td>\n",
       "            </tr>\n",
       "            <tr>\n",
       "                        <th id=\"T_075339fe_2ebe_11ed_85d9_0242ac110002level0_row48\" class=\"row_heading level0 row48\" >48</th>\n",
       "                        <td id=\"T_075339fe_2ebe_11ed_85d9_0242ac110002row48_col0\" class=\"data row48 col0\" >Polynomial Degree</td>\n",
       "                        <td id=\"T_075339fe_2ebe_11ed_85d9_0242ac110002row48_col1\" class=\"data row48 col1\" >None</td>\n",
       "            </tr>\n",
       "            <tr>\n",
       "                        <th id=\"T_075339fe_2ebe_11ed_85d9_0242ac110002level0_row49\" class=\"row_heading level0 row49\" >49</th>\n",
       "                        <td id=\"T_075339fe_2ebe_11ed_85d9_0242ac110002row49_col0\" class=\"data row49 col0\" >Trignometry Features</td>\n",
       "                        <td id=\"T_075339fe_2ebe_11ed_85d9_0242ac110002row49_col1\" class=\"data row49 col1\" >False</td>\n",
       "            </tr>\n",
       "            <tr>\n",
       "                        <th id=\"T_075339fe_2ebe_11ed_85d9_0242ac110002level0_row50\" class=\"row_heading level0 row50\" >50</th>\n",
       "                        <td id=\"T_075339fe_2ebe_11ed_85d9_0242ac110002row50_col0\" class=\"data row50 col0\" >Polynomial Threshold</td>\n",
       "                        <td id=\"T_075339fe_2ebe_11ed_85d9_0242ac110002row50_col1\" class=\"data row50 col1\" >None</td>\n",
       "            </tr>\n",
       "            <tr>\n",
       "                        <th id=\"T_075339fe_2ebe_11ed_85d9_0242ac110002level0_row51\" class=\"row_heading level0 row51\" >51</th>\n",
       "                        <td id=\"T_075339fe_2ebe_11ed_85d9_0242ac110002row51_col0\" class=\"data row51 col0\" >Group Features</td>\n",
       "                        <td id=\"T_075339fe_2ebe_11ed_85d9_0242ac110002row51_col1\" class=\"data row51 col1\" >False</td>\n",
       "            </tr>\n",
       "            <tr>\n",
       "                        <th id=\"T_075339fe_2ebe_11ed_85d9_0242ac110002level0_row52\" class=\"row_heading level0 row52\" >52</th>\n",
       "                        <td id=\"T_075339fe_2ebe_11ed_85d9_0242ac110002row52_col0\" class=\"data row52 col0\" >Feature Selection</td>\n",
       "                        <td id=\"T_075339fe_2ebe_11ed_85d9_0242ac110002row52_col1\" class=\"data row52 col1\" >False</td>\n",
       "            </tr>\n",
       "            <tr>\n",
       "                        <th id=\"T_075339fe_2ebe_11ed_85d9_0242ac110002level0_row53\" class=\"row_heading level0 row53\" >53</th>\n",
       "                        <td id=\"T_075339fe_2ebe_11ed_85d9_0242ac110002row53_col0\" class=\"data row53 col0\" >Feature Selection Method</td>\n",
       "                        <td id=\"T_075339fe_2ebe_11ed_85d9_0242ac110002row53_col1\" class=\"data row53 col1\" >classic</td>\n",
       "            </tr>\n",
       "            <tr>\n",
       "                        <th id=\"T_075339fe_2ebe_11ed_85d9_0242ac110002level0_row54\" class=\"row_heading level0 row54\" >54</th>\n",
       "                        <td id=\"T_075339fe_2ebe_11ed_85d9_0242ac110002row54_col0\" class=\"data row54 col0\" >Features Selection Threshold</td>\n",
       "                        <td id=\"T_075339fe_2ebe_11ed_85d9_0242ac110002row54_col1\" class=\"data row54 col1\" >None</td>\n",
       "            </tr>\n",
       "            <tr>\n",
       "                        <th id=\"T_075339fe_2ebe_11ed_85d9_0242ac110002level0_row55\" class=\"row_heading level0 row55\" >55</th>\n",
       "                        <td id=\"T_075339fe_2ebe_11ed_85d9_0242ac110002row55_col0\" class=\"data row55 col0\" >Feature Interaction</td>\n",
       "                        <td id=\"T_075339fe_2ebe_11ed_85d9_0242ac110002row55_col1\" class=\"data row55 col1\" >False</td>\n",
       "            </tr>\n",
       "            <tr>\n",
       "                        <th id=\"T_075339fe_2ebe_11ed_85d9_0242ac110002level0_row56\" class=\"row_heading level0 row56\" >56</th>\n",
       "                        <td id=\"T_075339fe_2ebe_11ed_85d9_0242ac110002row56_col0\" class=\"data row56 col0\" >Feature Ratio</td>\n",
       "                        <td id=\"T_075339fe_2ebe_11ed_85d9_0242ac110002row56_col1\" class=\"data row56 col1\" >False</td>\n",
       "            </tr>\n",
       "            <tr>\n",
       "                        <th id=\"T_075339fe_2ebe_11ed_85d9_0242ac110002level0_row57\" class=\"row_heading level0 row57\" >57</th>\n",
       "                        <td id=\"T_075339fe_2ebe_11ed_85d9_0242ac110002row57_col0\" class=\"data row57 col0\" >Interaction Threshold</td>\n",
       "                        <td id=\"T_075339fe_2ebe_11ed_85d9_0242ac110002row57_col1\" class=\"data row57 col1\" >None</td>\n",
       "            </tr>\n",
       "            <tr>\n",
       "                        <th id=\"T_075339fe_2ebe_11ed_85d9_0242ac110002level0_row58\" class=\"row_heading level0 row58\" >58</th>\n",
       "                        <td id=\"T_075339fe_2ebe_11ed_85d9_0242ac110002row58_col0\" class=\"data row58 col0\" >Fix Imbalance</td>\n",
       "                        <td id=\"T_075339fe_2ebe_11ed_85d9_0242ac110002row58_col1\" class=\"data row58 col1\" >False</td>\n",
       "            </tr>\n",
       "            <tr>\n",
       "                        <th id=\"T_075339fe_2ebe_11ed_85d9_0242ac110002level0_row59\" class=\"row_heading level0 row59\" >59</th>\n",
       "                        <td id=\"T_075339fe_2ebe_11ed_85d9_0242ac110002row59_col0\" class=\"data row59 col0\" >Fix Imbalance Method</td>\n",
       "                        <td id=\"T_075339fe_2ebe_11ed_85d9_0242ac110002row59_col1\" class=\"data row59 col1\" >SMOTE</td>\n",
       "            </tr>\n",
       "    </tbody></table>"
      ],
      "text/plain": [
       "<pandas.io.formats.style.Styler at 0x7faa6a31b7b8>"
      ]
     },
     "metadata": {},
     "output_type": "display_data"
    }
   ],
   "source": [
    "auto_ml = classification.setup(data=train, target=\"Survived\", fold_strategy='stratifiedkfold')"
   ]
  },
  {
   "cell_type": "code",
   "execution_count": 43,
   "metadata": {},
   "outputs": [
    {
     "data": {
      "text/html": [
       "<style  type=\"text/css\" >\n",
       "    #T_135cb482_2ebe_11ed_85d9_0242ac110002 th {\n",
       "          text-align: left;\n",
       "    }#T_135cb482_2ebe_11ed_85d9_0242ac110002row0_col0,#T_135cb482_2ebe_11ed_85d9_0242ac110002row0_col3,#T_135cb482_2ebe_11ed_85d9_0242ac110002row1_col0,#T_135cb482_2ebe_11ed_85d9_0242ac110002row1_col1,#T_135cb482_2ebe_11ed_85d9_0242ac110002row1_col2,#T_135cb482_2ebe_11ed_85d9_0242ac110002row1_col3,#T_135cb482_2ebe_11ed_85d9_0242ac110002row1_col4,#T_135cb482_2ebe_11ed_85d9_0242ac110002row1_col5,#T_135cb482_2ebe_11ed_85d9_0242ac110002row1_col6,#T_135cb482_2ebe_11ed_85d9_0242ac110002row1_col7,#T_135cb482_2ebe_11ed_85d9_0242ac110002row2_col0,#T_135cb482_2ebe_11ed_85d9_0242ac110002row2_col1,#T_135cb482_2ebe_11ed_85d9_0242ac110002row2_col2,#T_135cb482_2ebe_11ed_85d9_0242ac110002row2_col3,#T_135cb482_2ebe_11ed_85d9_0242ac110002row2_col4,#T_135cb482_2ebe_11ed_85d9_0242ac110002row2_col5,#T_135cb482_2ebe_11ed_85d9_0242ac110002row2_col6,#T_135cb482_2ebe_11ed_85d9_0242ac110002row2_col7,#T_135cb482_2ebe_11ed_85d9_0242ac110002row3_col0,#T_135cb482_2ebe_11ed_85d9_0242ac110002row3_col1,#T_135cb482_2ebe_11ed_85d9_0242ac110002row3_col2,#T_135cb482_2ebe_11ed_85d9_0242ac110002row3_col3,#T_135cb482_2ebe_11ed_85d9_0242ac110002row3_col4,#T_135cb482_2ebe_11ed_85d9_0242ac110002row3_col5,#T_135cb482_2ebe_11ed_85d9_0242ac110002row3_col6,#T_135cb482_2ebe_11ed_85d9_0242ac110002row3_col7,#T_135cb482_2ebe_11ed_85d9_0242ac110002row4_col0,#T_135cb482_2ebe_11ed_85d9_0242ac110002row4_col1,#T_135cb482_2ebe_11ed_85d9_0242ac110002row4_col2,#T_135cb482_2ebe_11ed_85d9_0242ac110002row4_col3,#T_135cb482_2ebe_11ed_85d9_0242ac110002row4_col4,#T_135cb482_2ebe_11ed_85d9_0242ac110002row4_col5,#T_135cb482_2ebe_11ed_85d9_0242ac110002row4_col6,#T_135cb482_2ebe_11ed_85d9_0242ac110002row4_col7,#T_135cb482_2ebe_11ed_85d9_0242ac110002row5_col0,#T_135cb482_2ebe_11ed_85d9_0242ac110002row5_col1,#T_135cb482_2ebe_11ed_85d9_0242ac110002row5_col2,#T_135cb482_2ebe_11ed_85d9_0242ac110002row5_col3,#T_135cb482_2ebe_11ed_85d9_0242ac110002row5_col4,#T_135cb482_2ebe_11ed_85d9_0242ac110002row5_col5,#T_135cb482_2ebe_11ed_85d9_0242ac110002row5_col6,#T_135cb482_2ebe_11ed_85d9_0242ac110002row5_col7,#T_135cb482_2ebe_11ed_85d9_0242ac110002row6_col0,#T_135cb482_2ebe_11ed_85d9_0242ac110002row6_col1,#T_135cb482_2ebe_11ed_85d9_0242ac110002row6_col2,#T_135cb482_2ebe_11ed_85d9_0242ac110002row6_col3,#T_135cb482_2ebe_11ed_85d9_0242ac110002row6_col4,#T_135cb482_2ebe_11ed_85d9_0242ac110002row6_col5,#T_135cb482_2ebe_11ed_85d9_0242ac110002row6_col6,#T_135cb482_2ebe_11ed_85d9_0242ac110002row6_col7,#T_135cb482_2ebe_11ed_85d9_0242ac110002row7_col0,#T_135cb482_2ebe_11ed_85d9_0242ac110002row7_col1,#T_135cb482_2ebe_11ed_85d9_0242ac110002row7_col2,#T_135cb482_2ebe_11ed_85d9_0242ac110002row7_col3,#T_135cb482_2ebe_11ed_85d9_0242ac110002row7_col4,#T_135cb482_2ebe_11ed_85d9_0242ac110002row7_col5,#T_135cb482_2ebe_11ed_85d9_0242ac110002row7_col6,#T_135cb482_2ebe_11ed_85d9_0242ac110002row7_col7,#T_135cb482_2ebe_11ed_85d9_0242ac110002row8_col0,#T_135cb482_2ebe_11ed_85d9_0242ac110002row8_col1,#T_135cb482_2ebe_11ed_85d9_0242ac110002row8_col2,#T_135cb482_2ebe_11ed_85d9_0242ac110002row8_col3,#T_135cb482_2ebe_11ed_85d9_0242ac110002row8_col4,#T_135cb482_2ebe_11ed_85d9_0242ac110002row8_col5,#T_135cb482_2ebe_11ed_85d9_0242ac110002row8_col6,#T_135cb482_2ebe_11ed_85d9_0242ac110002row8_col7,#T_135cb482_2ebe_11ed_85d9_0242ac110002row9_col0,#T_135cb482_2ebe_11ed_85d9_0242ac110002row9_col1,#T_135cb482_2ebe_11ed_85d9_0242ac110002row9_col2,#T_135cb482_2ebe_11ed_85d9_0242ac110002row9_col3,#T_135cb482_2ebe_11ed_85d9_0242ac110002row9_col4,#T_135cb482_2ebe_11ed_85d9_0242ac110002row9_col5,#T_135cb482_2ebe_11ed_85d9_0242ac110002row9_col6,#T_135cb482_2ebe_11ed_85d9_0242ac110002row9_col7,#T_135cb482_2ebe_11ed_85d9_0242ac110002row10_col0,#T_135cb482_2ebe_11ed_85d9_0242ac110002row10_col1,#T_135cb482_2ebe_11ed_85d9_0242ac110002row10_col2,#T_135cb482_2ebe_11ed_85d9_0242ac110002row10_col3,#T_135cb482_2ebe_11ed_85d9_0242ac110002row10_col4,#T_135cb482_2ebe_11ed_85d9_0242ac110002row10_col5,#T_135cb482_2ebe_11ed_85d9_0242ac110002row10_col6,#T_135cb482_2ebe_11ed_85d9_0242ac110002row10_col7,#T_135cb482_2ebe_11ed_85d9_0242ac110002row11_col0,#T_135cb482_2ebe_11ed_85d9_0242ac110002row11_col1,#T_135cb482_2ebe_11ed_85d9_0242ac110002row11_col2,#T_135cb482_2ebe_11ed_85d9_0242ac110002row11_col3,#T_135cb482_2ebe_11ed_85d9_0242ac110002row11_col4,#T_135cb482_2ebe_11ed_85d9_0242ac110002row11_col5,#T_135cb482_2ebe_11ed_85d9_0242ac110002row11_col6,#T_135cb482_2ebe_11ed_85d9_0242ac110002row11_col7,#T_135cb482_2ebe_11ed_85d9_0242ac110002row12_col0,#T_135cb482_2ebe_11ed_85d9_0242ac110002row12_col1,#T_135cb482_2ebe_11ed_85d9_0242ac110002row12_col2,#T_135cb482_2ebe_11ed_85d9_0242ac110002row12_col3,#T_135cb482_2ebe_11ed_85d9_0242ac110002row12_col4,#T_135cb482_2ebe_11ed_85d9_0242ac110002row12_col5,#T_135cb482_2ebe_11ed_85d9_0242ac110002row12_col6,#T_135cb482_2ebe_11ed_85d9_0242ac110002row12_col7,#T_135cb482_2ebe_11ed_85d9_0242ac110002row13_col0,#T_135cb482_2ebe_11ed_85d9_0242ac110002row13_col1,#T_135cb482_2ebe_11ed_85d9_0242ac110002row13_col2,#T_135cb482_2ebe_11ed_85d9_0242ac110002row13_col3,#T_135cb482_2ebe_11ed_85d9_0242ac110002row13_col4,#T_135cb482_2ebe_11ed_85d9_0242ac110002row13_col5,#T_135cb482_2ebe_11ed_85d9_0242ac110002row13_col6,#T_135cb482_2ebe_11ed_85d9_0242ac110002row13_col7,#T_135cb482_2ebe_11ed_85d9_0242ac110002row14_col0,#T_135cb482_2ebe_11ed_85d9_0242ac110002row14_col1,#T_135cb482_2ebe_11ed_85d9_0242ac110002row14_col2,#T_135cb482_2ebe_11ed_85d9_0242ac110002row14_col4,#T_135cb482_2ebe_11ed_85d9_0242ac110002row14_col5,#T_135cb482_2ebe_11ed_85d9_0242ac110002row14_col6,#T_135cb482_2ebe_11ed_85d9_0242ac110002row14_col7{\n",
       "            text-align:  left;\n",
       "            text-align:  left;\n",
       "        }#T_135cb482_2ebe_11ed_85d9_0242ac110002row0_col1,#T_135cb482_2ebe_11ed_85d9_0242ac110002row0_col2,#T_135cb482_2ebe_11ed_85d9_0242ac110002row0_col4,#T_135cb482_2ebe_11ed_85d9_0242ac110002row0_col5,#T_135cb482_2ebe_11ed_85d9_0242ac110002row0_col6,#T_135cb482_2ebe_11ed_85d9_0242ac110002row0_col7,#T_135cb482_2ebe_11ed_85d9_0242ac110002row14_col3{\n",
       "            text-align:  left;\n",
       "            text-align:  left;\n",
       "            background-color:  yellow;\n",
       "        }#T_135cb482_2ebe_11ed_85d9_0242ac110002row0_col8,#T_135cb482_2ebe_11ed_85d9_0242ac110002row1_col8,#T_135cb482_2ebe_11ed_85d9_0242ac110002row2_col8,#T_135cb482_2ebe_11ed_85d9_0242ac110002row3_col8,#T_135cb482_2ebe_11ed_85d9_0242ac110002row4_col8,#T_135cb482_2ebe_11ed_85d9_0242ac110002row5_col8,#T_135cb482_2ebe_11ed_85d9_0242ac110002row6_col8,#T_135cb482_2ebe_11ed_85d9_0242ac110002row7_col8,#T_135cb482_2ebe_11ed_85d9_0242ac110002row8_col8,#T_135cb482_2ebe_11ed_85d9_0242ac110002row10_col8,#T_135cb482_2ebe_11ed_85d9_0242ac110002row11_col8,#T_135cb482_2ebe_11ed_85d9_0242ac110002row12_col8,#T_135cb482_2ebe_11ed_85d9_0242ac110002row14_col8{\n",
       "            text-align:  left;\n",
       "            text-align:  left;\n",
       "            background-color:  lightgrey;\n",
       "        }#T_135cb482_2ebe_11ed_85d9_0242ac110002row9_col8,#T_135cb482_2ebe_11ed_85d9_0242ac110002row13_col8{\n",
       "            text-align:  left;\n",
       "            text-align:  left;\n",
       "            background-color:  yellow;\n",
       "            background-color:  lightgrey;\n",
       "        }</style><table id=\"T_135cb482_2ebe_11ed_85d9_0242ac110002\" ><thead>    <tr>        <th class=\"blank level0\" ></th>        <th class=\"col_heading level0 col0\" >Model</th>        <th class=\"col_heading level0 col1\" >Accuracy</th>        <th class=\"col_heading level0 col2\" >AUC</th>        <th class=\"col_heading level0 col3\" >Recall</th>        <th class=\"col_heading level0 col4\" >Prec.</th>        <th class=\"col_heading level0 col5\" >F1</th>        <th class=\"col_heading level0 col6\" >Kappa</th>        <th class=\"col_heading level0 col7\" >MCC</th>        <th class=\"col_heading level0 col8\" >TT (Sec)</th>    </tr></thead><tbody>\n",
       "                <tr>\n",
       "                        <th id=\"T_135cb482_2ebe_11ed_85d9_0242ac110002level0_row0\" class=\"row_heading level0 row0\" >gbc</th>\n",
       "                        <td id=\"T_135cb482_2ebe_11ed_85d9_0242ac110002row0_col0\" class=\"data row0 col0\" >Gradient Boosting Classifier</td>\n",
       "                        <td id=\"T_135cb482_2ebe_11ed_85d9_0242ac110002row0_col1\" class=\"data row0 col1\" >0.836</td>\n",
       "                        <td id=\"T_135cb482_2ebe_11ed_85d9_0242ac110002row0_col2\" class=\"data row0 col2\" >0.873</td>\n",
       "                        <td id=\"T_135cb482_2ebe_11ed_85d9_0242ac110002row0_col3\" class=\"data row0 col3\" >0.733</td>\n",
       "                        <td id=\"T_135cb482_2ebe_11ed_85d9_0242ac110002row0_col4\" class=\"data row0 col4\" >0.824</td>\n",
       "                        <td id=\"T_135cb482_2ebe_11ed_85d9_0242ac110002row0_col5\" class=\"data row0 col5\" >0.775</td>\n",
       "                        <td id=\"T_135cb482_2ebe_11ed_85d9_0242ac110002row0_col6\" class=\"data row0 col6\" >0.647</td>\n",
       "                        <td id=\"T_135cb482_2ebe_11ed_85d9_0242ac110002row0_col7\" class=\"data row0 col7\" >0.651</td>\n",
       "                        <td id=\"T_135cb482_2ebe_11ed_85d9_0242ac110002row0_col8\" class=\"data row0 col8\" >0.066</td>\n",
       "            </tr>\n",
       "            <tr>\n",
       "                        <th id=\"T_135cb482_2ebe_11ed_85d9_0242ac110002level0_row1\" class=\"row_heading level0 row1\" >catboost</th>\n",
       "                        <td id=\"T_135cb482_2ebe_11ed_85d9_0242ac110002row1_col0\" class=\"data row1 col0\" >CatBoost Classifier</td>\n",
       "                        <td id=\"T_135cb482_2ebe_11ed_85d9_0242ac110002row1_col1\" class=\"data row1 col1\" >0.827</td>\n",
       "                        <td id=\"T_135cb482_2ebe_11ed_85d9_0242ac110002row1_col2\" class=\"data row1 col2\" >0.859</td>\n",
       "                        <td id=\"T_135cb482_2ebe_11ed_85d9_0242ac110002row1_col3\" class=\"data row1 col3\" >0.725</td>\n",
       "                        <td id=\"T_135cb482_2ebe_11ed_85d9_0242ac110002row1_col4\" class=\"data row1 col4\" >0.808</td>\n",
       "                        <td id=\"T_135cb482_2ebe_11ed_85d9_0242ac110002row1_col5\" class=\"data row1 col5\" >0.763</td>\n",
       "                        <td id=\"T_135cb482_2ebe_11ed_85d9_0242ac110002row1_col6\" class=\"data row1 col6\" >0.627</td>\n",
       "                        <td id=\"T_135cb482_2ebe_11ed_85d9_0242ac110002row1_col7\" class=\"data row1 col7\" >0.631</td>\n",
       "                        <td id=\"T_135cb482_2ebe_11ed_85d9_0242ac110002row1_col8\" class=\"data row1 col8\" >0.682</td>\n",
       "            </tr>\n",
       "            <tr>\n",
       "                        <th id=\"T_135cb482_2ebe_11ed_85d9_0242ac110002level0_row2\" class=\"row_heading level0 row2\" >lr</th>\n",
       "                        <td id=\"T_135cb482_2ebe_11ed_85d9_0242ac110002row2_col0\" class=\"data row2 col0\" >Logistic Regression</td>\n",
       "                        <td id=\"T_135cb482_2ebe_11ed_85d9_0242ac110002row2_col1\" class=\"data row2 col1\" >0.817</td>\n",
       "                        <td id=\"T_135cb482_2ebe_11ed_85d9_0242ac110002row2_col2\" class=\"data row2 col2\" >0.862</td>\n",
       "                        <td id=\"T_135cb482_2ebe_11ed_85d9_0242ac110002row2_col3\" class=\"data row2 col3\" >0.758</td>\n",
       "                        <td id=\"T_135cb482_2ebe_11ed_85d9_0242ac110002row2_col4\" class=\"data row2 col4\" >0.766</td>\n",
       "                        <td id=\"T_135cb482_2ebe_11ed_85d9_0242ac110002row2_col5\" class=\"data row2 col5\" >0.761</td>\n",
       "                        <td id=\"T_135cb482_2ebe_11ed_85d9_0242ac110002row2_col6\" class=\"data row2 col6\" >0.613</td>\n",
       "                        <td id=\"T_135cb482_2ebe_11ed_85d9_0242ac110002row2_col7\" class=\"data row2 col7\" >0.614</td>\n",
       "                        <td id=\"T_135cb482_2ebe_11ed_85d9_0242ac110002row2_col8\" class=\"data row2 col8\" >0.716</td>\n",
       "            </tr>\n",
       "            <tr>\n",
       "                        <th id=\"T_135cb482_2ebe_11ed_85d9_0242ac110002level0_row3\" class=\"row_heading level0 row3\" >ridge</th>\n",
       "                        <td id=\"T_135cb482_2ebe_11ed_85d9_0242ac110002row3_col0\" class=\"data row3 col0\" >Ridge Classifier</td>\n",
       "                        <td id=\"T_135cb482_2ebe_11ed_85d9_0242ac110002row3_col1\" class=\"data row3 col1\" >0.812</td>\n",
       "                        <td id=\"T_135cb482_2ebe_11ed_85d9_0242ac110002row3_col2\" class=\"data row3 col2\" >0.000</td>\n",
       "                        <td id=\"T_135cb482_2ebe_11ed_85d9_0242ac110002row3_col3\" class=\"data row3 col3\" >0.733</td>\n",
       "                        <td id=\"T_135cb482_2ebe_11ed_85d9_0242ac110002row3_col4\" class=\"data row3 col4\" >0.770</td>\n",
       "                        <td id=\"T_135cb482_2ebe_11ed_85d9_0242ac110002row3_col5\" class=\"data row3 col5\" >0.751</td>\n",
       "                        <td id=\"T_135cb482_2ebe_11ed_85d9_0242ac110002row3_col6\" class=\"data row3 col6\" >0.600</td>\n",
       "                        <td id=\"T_135cb482_2ebe_11ed_85d9_0242ac110002row3_col7\" class=\"data row3 col7\" >0.601</td>\n",
       "                        <td id=\"T_135cb482_2ebe_11ed_85d9_0242ac110002row3_col8\" class=\"data row3 col8\" >0.012</td>\n",
       "            </tr>\n",
       "            <tr>\n",
       "                        <th id=\"T_135cb482_2ebe_11ed_85d9_0242ac110002level0_row4\" class=\"row_heading level0 row4\" >lda</th>\n",
       "                        <td id=\"T_135cb482_2ebe_11ed_85d9_0242ac110002row4_col0\" class=\"data row4 col0\" >Linear Discriminant Analysis</td>\n",
       "                        <td id=\"T_135cb482_2ebe_11ed_85d9_0242ac110002row4_col1\" class=\"data row4 col1\" >0.812</td>\n",
       "                        <td id=\"T_135cb482_2ebe_11ed_85d9_0242ac110002row4_col2\" class=\"data row4 col2\" >0.859</td>\n",
       "                        <td id=\"T_135cb482_2ebe_11ed_85d9_0242ac110002row4_col3\" class=\"data row4 col3\" >0.725</td>\n",
       "                        <td id=\"T_135cb482_2ebe_11ed_85d9_0242ac110002row4_col4\" class=\"data row4 col4\" >0.775</td>\n",
       "                        <td id=\"T_135cb482_2ebe_11ed_85d9_0242ac110002row4_col5\" class=\"data row4 col5\" >0.748</td>\n",
       "                        <td id=\"T_135cb482_2ebe_11ed_85d9_0242ac110002row4_col6\" class=\"data row4 col6\" >0.599</td>\n",
       "                        <td id=\"T_135cb482_2ebe_11ed_85d9_0242ac110002row4_col7\" class=\"data row4 col7\" >0.601</td>\n",
       "                        <td id=\"T_135cb482_2ebe_11ed_85d9_0242ac110002row4_col8\" class=\"data row4 col8\" >0.014</td>\n",
       "            </tr>\n",
       "            <tr>\n",
       "                        <th id=\"T_135cb482_2ebe_11ed_85d9_0242ac110002level0_row5\" class=\"row_heading level0 row5\" >lightgbm</th>\n",
       "                        <td id=\"T_135cb482_2ebe_11ed_85d9_0242ac110002row5_col0\" class=\"data row5 col0\" >Light Gradient Boosting Machine</td>\n",
       "                        <td id=\"T_135cb482_2ebe_11ed_85d9_0242ac110002row5_col1\" class=\"data row5 col1\" >0.812</td>\n",
       "                        <td id=\"T_135cb482_2ebe_11ed_85d9_0242ac110002row5_col2\" class=\"data row5 col2\" >0.856</td>\n",
       "                        <td id=\"T_135cb482_2ebe_11ed_85d9_0242ac110002row5_col3\" class=\"data row5 col3\" >0.721</td>\n",
       "                        <td id=\"T_135cb482_2ebe_11ed_85d9_0242ac110002row5_col4\" class=\"data row5 col4\" >0.778</td>\n",
       "                        <td id=\"T_135cb482_2ebe_11ed_85d9_0242ac110002row5_col5\" class=\"data row5 col5\" >0.748</td>\n",
       "                        <td id=\"T_135cb482_2ebe_11ed_85d9_0242ac110002row5_col6\" class=\"data row5 col6\" >0.598</td>\n",
       "                        <td id=\"T_135cb482_2ebe_11ed_85d9_0242ac110002row5_col7\" class=\"data row5 col7\" >0.600</td>\n",
       "                        <td id=\"T_135cb482_2ebe_11ed_85d9_0242ac110002row5_col8\" class=\"data row5 col8\" >0.084</td>\n",
       "            </tr>\n",
       "            <tr>\n",
       "                        <th id=\"T_135cb482_2ebe_11ed_85d9_0242ac110002level0_row6\" class=\"row_heading level0 row6\" >ada</th>\n",
       "                        <td id=\"T_135cb482_2ebe_11ed_85d9_0242ac110002row6_col0\" class=\"data row6 col0\" >Ada Boost Classifier</td>\n",
       "                        <td id=\"T_135cb482_2ebe_11ed_85d9_0242ac110002row6_col1\" class=\"data row6 col1\" >0.803</td>\n",
       "                        <td id=\"T_135cb482_2ebe_11ed_85d9_0242ac110002row6_col2\" class=\"data row6 col2\" >0.858</td>\n",
       "                        <td id=\"T_135cb482_2ebe_11ed_85d9_0242ac110002row6_col3\" class=\"data row6 col3\" >0.742</td>\n",
       "                        <td id=\"T_135cb482_2ebe_11ed_85d9_0242ac110002row6_col4\" class=\"data row6 col4\" >0.748</td>\n",
       "                        <td id=\"T_135cb482_2ebe_11ed_85d9_0242ac110002row6_col5\" class=\"data row6 col5\" >0.743</td>\n",
       "                        <td id=\"T_135cb482_2ebe_11ed_85d9_0242ac110002row6_col6\" class=\"data row6 col6\" >0.583</td>\n",
       "                        <td id=\"T_135cb482_2ebe_11ed_85d9_0242ac110002row6_col7\" class=\"data row6 col7\" >0.584</td>\n",
       "                        <td id=\"T_135cb482_2ebe_11ed_85d9_0242ac110002row6_col8\" class=\"data row6 col8\" >0.064</td>\n",
       "            </tr>\n",
       "            <tr>\n",
       "                        <th id=\"T_135cb482_2ebe_11ed_85d9_0242ac110002level0_row7\" class=\"row_heading level0 row7\" >knn</th>\n",
       "                        <td id=\"T_135cb482_2ebe_11ed_85d9_0242ac110002row7_col0\" class=\"data row7 col0\" >K Neighbors Classifier</td>\n",
       "                        <td id=\"T_135cb482_2ebe_11ed_85d9_0242ac110002row7_col1\" class=\"data row7 col1\" >0.799</td>\n",
       "                        <td id=\"T_135cb482_2ebe_11ed_85d9_0242ac110002row7_col2\" class=\"data row7 col2\" >0.838</td>\n",
       "                        <td id=\"T_135cb482_2ebe_11ed_85d9_0242ac110002row7_col3\" class=\"data row7 col3\" >0.683</td>\n",
       "                        <td id=\"T_135cb482_2ebe_11ed_85d9_0242ac110002row7_col4\" class=\"data row7 col4\" >0.778</td>\n",
       "                        <td id=\"T_135cb482_2ebe_11ed_85d9_0242ac110002row7_col5\" class=\"data row7 col5\" >0.724</td>\n",
       "                        <td id=\"T_135cb482_2ebe_11ed_85d9_0242ac110002row7_col6\" class=\"data row7 col6\" >0.568</td>\n",
       "                        <td id=\"T_135cb482_2ebe_11ed_85d9_0242ac110002row7_col7\" class=\"data row7 col7\" >0.574</td>\n",
       "                        <td id=\"T_135cb482_2ebe_11ed_85d9_0242ac110002row7_col8\" class=\"data row7 col8\" >0.104</td>\n",
       "            </tr>\n",
       "            <tr>\n",
       "                        <th id=\"T_135cb482_2ebe_11ed_85d9_0242ac110002level0_row8\" class=\"row_heading level0 row8\" >rf</th>\n",
       "                        <td id=\"T_135cb482_2ebe_11ed_85d9_0242ac110002row8_col0\" class=\"data row8 col0\" >Random Forest Classifier</td>\n",
       "                        <td id=\"T_135cb482_2ebe_11ed_85d9_0242ac110002row8_col1\" class=\"data row8 col1\" >0.798</td>\n",
       "                        <td id=\"T_135cb482_2ebe_11ed_85d9_0242ac110002row8_col2\" class=\"data row8 col2\" >0.839</td>\n",
       "                        <td id=\"T_135cb482_2ebe_11ed_85d9_0242ac110002row8_col3\" class=\"data row8 col3\" >0.712</td>\n",
       "                        <td id=\"T_135cb482_2ebe_11ed_85d9_0242ac110002row8_col4\" class=\"data row8 col4\" >0.754</td>\n",
       "                        <td id=\"T_135cb482_2ebe_11ed_85d9_0242ac110002row8_col5\" class=\"data row8 col5\" >0.731</td>\n",
       "                        <td id=\"T_135cb482_2ebe_11ed_85d9_0242ac110002row8_col6\" class=\"data row8 col6\" >0.569</td>\n",
       "                        <td id=\"T_135cb482_2ebe_11ed_85d9_0242ac110002row8_col7\" class=\"data row8 col7\" >0.571</td>\n",
       "                        <td id=\"T_135cb482_2ebe_11ed_85d9_0242ac110002row8_col8\" class=\"data row8 col8\" >0.486</td>\n",
       "            </tr>\n",
       "            <tr>\n",
       "                        <th id=\"T_135cb482_2ebe_11ed_85d9_0242ac110002level0_row9\" class=\"row_heading level0 row9\" >svm</th>\n",
       "                        <td id=\"T_135cb482_2ebe_11ed_85d9_0242ac110002row9_col0\" class=\"data row9 col0\" >SVM - Linear Kernel</td>\n",
       "                        <td id=\"T_135cb482_2ebe_11ed_85d9_0242ac110002row9_col1\" class=\"data row9 col1\" >0.791</td>\n",
       "                        <td id=\"T_135cb482_2ebe_11ed_85d9_0242ac110002row9_col2\" class=\"data row9 col2\" >0.000</td>\n",
       "                        <td id=\"T_135cb482_2ebe_11ed_85d9_0242ac110002row9_col3\" class=\"data row9 col3\" >0.658</td>\n",
       "                        <td id=\"T_135cb482_2ebe_11ed_85d9_0242ac110002row9_col4\" class=\"data row9 col4\" >0.776</td>\n",
       "                        <td id=\"T_135cb482_2ebe_11ed_85d9_0242ac110002row9_col5\" class=\"data row9 col5\" >0.708</td>\n",
       "                        <td id=\"T_135cb482_2ebe_11ed_85d9_0242ac110002row9_col6\" class=\"data row9 col6\" >0.548</td>\n",
       "                        <td id=\"T_135cb482_2ebe_11ed_85d9_0242ac110002row9_col7\" class=\"data row9 col7\" >0.556</td>\n",
       "                        <td id=\"T_135cb482_2ebe_11ed_85d9_0242ac110002row9_col8\" class=\"data row9 col8\" >0.010</td>\n",
       "            </tr>\n",
       "            <tr>\n",
       "                        <th id=\"T_135cb482_2ebe_11ed_85d9_0242ac110002level0_row10\" class=\"row_heading level0 row10\" >et</th>\n",
       "                        <td id=\"T_135cb482_2ebe_11ed_85d9_0242ac110002row10_col0\" class=\"data row10 col0\" >Extra Trees Classifier</td>\n",
       "                        <td id=\"T_135cb482_2ebe_11ed_85d9_0242ac110002row10_col1\" class=\"data row10 col1\" >0.783</td>\n",
       "                        <td id=\"T_135cb482_2ebe_11ed_85d9_0242ac110002row10_col2\" class=\"data row10 col2\" >0.809</td>\n",
       "                        <td id=\"T_135cb482_2ebe_11ed_85d9_0242ac110002row10_col3\" class=\"data row10 col3\" >0.658</td>\n",
       "                        <td id=\"T_135cb482_2ebe_11ed_85d9_0242ac110002row10_col4\" class=\"data row10 col4\" >0.754</td>\n",
       "                        <td id=\"T_135cb482_2ebe_11ed_85d9_0242ac110002row10_col5\" class=\"data row10 col5\" >0.701</td>\n",
       "                        <td id=\"T_135cb482_2ebe_11ed_85d9_0242ac110002row10_col6\" class=\"data row10 col6\" >0.532</td>\n",
       "                        <td id=\"T_135cb482_2ebe_11ed_85d9_0242ac110002row10_col7\" class=\"data row10 col7\" >0.537</td>\n",
       "                        <td id=\"T_135cb482_2ebe_11ed_85d9_0242ac110002row10_col8\" class=\"data row10 col8\" >0.412</td>\n",
       "            </tr>\n",
       "            <tr>\n",
       "                        <th id=\"T_135cb482_2ebe_11ed_85d9_0242ac110002level0_row11\" class=\"row_heading level0 row11\" >dt</th>\n",
       "                        <td id=\"T_135cb482_2ebe_11ed_85d9_0242ac110002row11_col0\" class=\"data row11 col0\" >Decision Tree Classifier</td>\n",
       "                        <td id=\"T_135cb482_2ebe_11ed_85d9_0242ac110002row11_col1\" class=\"data row11 col1\" >0.775</td>\n",
       "                        <td id=\"T_135cb482_2ebe_11ed_85d9_0242ac110002row11_col2\" class=\"data row11 col2\" >0.764</td>\n",
       "                        <td id=\"T_135cb482_2ebe_11ed_85d9_0242ac110002row11_col3\" class=\"data row11 col3\" >0.621</td>\n",
       "                        <td id=\"T_135cb482_2ebe_11ed_85d9_0242ac110002row11_col4\" class=\"data row11 col4\" >0.755</td>\n",
       "                        <td id=\"T_135cb482_2ebe_11ed_85d9_0242ac110002row11_col5\" class=\"data row11 col5\" >0.680</td>\n",
       "                        <td id=\"T_135cb482_2ebe_11ed_85d9_0242ac110002row11_col6\" class=\"data row11 col6\" >0.509</td>\n",
       "                        <td id=\"T_135cb482_2ebe_11ed_85d9_0242ac110002row11_col7\" class=\"data row11 col7\" >0.516</td>\n",
       "                        <td id=\"T_135cb482_2ebe_11ed_85d9_0242ac110002row11_col8\" class=\"data row11 col8\" >0.014</td>\n",
       "            </tr>\n",
       "            <tr>\n",
       "                        <th id=\"T_135cb482_2ebe_11ed_85d9_0242ac110002level0_row12\" class=\"row_heading level0 row12\" >qda</th>\n",
       "                        <td id=\"T_135cb482_2ebe_11ed_85d9_0242ac110002row12_col0\" class=\"data row12 col0\" >Quadratic Discriminant Analysis</td>\n",
       "                        <td id=\"T_135cb482_2ebe_11ed_85d9_0242ac110002row12_col1\" class=\"data row12 col1\" >0.666</td>\n",
       "                        <td id=\"T_135cb482_2ebe_11ed_85d9_0242ac110002row12_col2\" class=\"data row12 col2\" >0.647</td>\n",
       "                        <td id=\"T_135cb482_2ebe_11ed_85d9_0242ac110002row12_col3\" class=\"data row12 col3\" >0.567</td>\n",
       "                        <td id=\"T_135cb482_2ebe_11ed_85d9_0242ac110002row12_col4\" class=\"data row12 col4\" >0.581</td>\n",
       "                        <td id=\"T_135cb482_2ebe_11ed_85d9_0242ac110002row12_col5\" class=\"data row12 col5\" >0.564</td>\n",
       "                        <td id=\"T_135cb482_2ebe_11ed_85d9_0242ac110002row12_col6\" class=\"data row12 col6\" >0.296</td>\n",
       "                        <td id=\"T_135cb482_2ebe_11ed_85d9_0242ac110002row12_col7\" class=\"data row12 col7\" >0.304</td>\n",
       "                        <td id=\"T_135cb482_2ebe_11ed_85d9_0242ac110002row12_col8\" class=\"data row12 col8\" >0.018</td>\n",
       "            </tr>\n",
       "            <tr>\n",
       "                        <th id=\"T_135cb482_2ebe_11ed_85d9_0242ac110002level0_row13\" class=\"row_heading level0 row13\" >dummy</th>\n",
       "                        <td id=\"T_135cb482_2ebe_11ed_85d9_0242ac110002row13_col0\" class=\"data row13 col0\" >Dummy Classifier</td>\n",
       "                        <td id=\"T_135cb482_2ebe_11ed_85d9_0242ac110002row13_col1\" class=\"data row13 col1\" >0.615</td>\n",
       "                        <td id=\"T_135cb482_2ebe_11ed_85d9_0242ac110002row13_col2\" class=\"data row13 col2\" >0.500</td>\n",
       "                        <td id=\"T_135cb482_2ebe_11ed_85d9_0242ac110002row13_col3\" class=\"data row13 col3\" >0.000</td>\n",
       "                        <td id=\"T_135cb482_2ebe_11ed_85d9_0242ac110002row13_col4\" class=\"data row13 col4\" >0.000</td>\n",
       "                        <td id=\"T_135cb482_2ebe_11ed_85d9_0242ac110002row13_col5\" class=\"data row13 col5\" >0.000</td>\n",
       "                        <td id=\"T_135cb482_2ebe_11ed_85d9_0242ac110002row13_col6\" class=\"data row13 col6\" >0.000</td>\n",
       "                        <td id=\"T_135cb482_2ebe_11ed_85d9_0242ac110002row13_col7\" class=\"data row13 col7\" >0.000</td>\n",
       "                        <td id=\"T_135cb482_2ebe_11ed_85d9_0242ac110002row13_col8\" class=\"data row13 col8\" >0.010</td>\n",
       "            </tr>\n",
       "            <tr>\n",
       "                        <th id=\"T_135cb482_2ebe_11ed_85d9_0242ac110002level0_row14\" class=\"row_heading level0 row14\" >nb</th>\n",
       "                        <td id=\"T_135cb482_2ebe_11ed_85d9_0242ac110002row14_col0\" class=\"data row14 col0\" >Naive Bayes</td>\n",
       "                        <td id=\"T_135cb482_2ebe_11ed_85d9_0242ac110002row14_col1\" class=\"data row14 col1\" >0.425</td>\n",
       "                        <td id=\"T_135cb482_2ebe_11ed_85d9_0242ac110002row14_col2\" class=\"data row14 col2\" >0.671</td>\n",
       "                        <td id=\"T_135cb482_2ebe_11ed_85d9_0242ac110002row14_col3\" class=\"data row14 col3\" >0.996</td>\n",
       "                        <td id=\"T_135cb482_2ebe_11ed_85d9_0242ac110002row14_col4\" class=\"data row14 col4\" >0.401</td>\n",
       "                        <td id=\"T_135cb482_2ebe_11ed_85d9_0242ac110002row14_col5\" class=\"data row14 col5\" >0.572</td>\n",
       "                        <td id=\"T_135cb482_2ebe_11ed_85d9_0242ac110002row14_col6\" class=\"data row14 col6\" >0.050</td>\n",
       "                        <td id=\"T_135cb482_2ebe_11ed_85d9_0242ac110002row14_col7\" class=\"data row14 col7\" >0.152</td>\n",
       "                        <td id=\"T_135cb482_2ebe_11ed_85d9_0242ac110002row14_col8\" class=\"data row14 col8\" >0.024</td>\n",
       "            </tr>\n",
       "    </tbody></table>"
      ],
      "text/plain": [
       "<pandas.io.formats.style.Styler at 0x7faa6a31bb00>"
      ]
     },
     "metadata": {},
     "output_type": "display_data"
    }
   ],
   "source": [
    "auto_ml_result = classification.compare_models(fold=5, round=3, sort=\"Accuracy\", n_select=5)"
   ]
  },
  {
   "cell_type": "code",
   "execution_count": 44,
   "metadata": {},
   "outputs": [],
   "source": [
    "kfold = KFold(n_splits=5, shuffle=True, random_state=42)"
   ]
  },
  {
   "cell_type": "code",
   "execution_count": 45,
   "metadata": {},
   "outputs": [
    {
     "name": "stdout",
     "output_type": "stream",
     "text": [
      "---- Logistic Regression ----\n",
      "[0.77653631 0.80337079 0.84269663 0.7752809  0.84269663]\n",
      "Average logis_k score: 0.8081162513338773 \n",
      "\n",
      "---- Support Vector Machine ----\n",
      "[0.81005587 0.82022472 0.87078652 0.79213483 0.83146067]\n",
      "Average svm_k score: 0.8249325214989642 \n",
      "\n",
      "---- K-Nerest Neighbor ----\n",
      "[0.81005587 0.80898876 0.80337079 0.76966292 0.82022472]\n",
      "Average knn_k score: 0.8024606113866046 \n",
      "\n",
      "---- Decision Tree ----\n",
      "[0.79888268 0.75842697 0.81460674 0.76404494 0.80337079]\n",
      "Average tree_k score: 0.7878664239532986 \n",
      "\n",
      "---- Random Forest ----\n",
      "[0.81564246 0.78651685 0.81460674 0.7752809  0.83146067]\n",
      "Average forest_k score: 0.8047015253279769 \n",
      "\n",
      "---- LDA ----\n",
      "[0.7877095  0.79213483 0.84269663 0.74719101 0.8258427 ]\n",
      "Average lda_k score: 0.799114933149206 \n",
      "\n",
      "---- Ridge ----\n",
      "[0.7877095  0.79213483 0.84269663 0.74719101 0.8258427 ]\n",
      "Average ridge_k score: 0.799114933149206 \n",
      "\n"
     ]
    }
   ],
   "source": [
    "print(\"---- Logistic Regression ----\")\n",
    "logis_k = LogisticRegression()\n",
    "logis_k_score = cross_val_score(logis_k, x_train, y_train, cv=kfold, n_jobs=1, scoring=\"accuracy\")\n",
    "print(logis_k_score)\n",
    "print(f\"Average logis_k score: {np.mean(logis_k_score)} \\n\")\n",
    "\n",
    "print(\"---- Support Vector Machine ----\")\n",
    "svm_k = SVC()\n",
    "svm_k_score = cross_val_score(svm_k, x_train, y_train, cv=kfold, n_jobs=1, scoring='accuracy')\n",
    "print(svm_k_score)\n",
    "print(f\"Average svm_k score: {np.mean(svm_k_score)} \\n\")\n",
    "\n",
    "print(\"---- K-Nerest Neighbor ----\")\n",
    "knn_k = KNeighborsClassifier(n_neighbors=5)\n",
    "knn_k_score = cross_val_score(knn_k, x_train, y_train, cv=kfold, n_jobs=1, scoring=\"accuracy\")\n",
    "print(knn_k_score)\n",
    "print(f\"Average knn_k score: {np.mean(knn_k_score)} \\n\")\n",
    "\n",
    "print(\"---- Decision Tree ----\")\n",
    "tree_k = DecisionTreeClassifier()\n",
    "tree_k_score = cross_val_score(tree_k, x_train, y_train, cv=kfold, n_jobs=1, scoring=\"accuracy\")\n",
    "print(tree_k_score)\n",
    "print(f\"Average tree_k score: {np.mean(tree_k_score)} \\n\")\n",
    "\n",
    "print(\"---- Random Forest ----\")\n",
    "forest_k = RandomForestClassifier()\n",
    "forest_k_score = cross_val_score(forest_k, x_train, y_train, cv=kfold, n_jobs=1, scoring=\"accuracy\")\n",
    "print(forest_k_score)\n",
    "print(f\"Average forest_k score: {np.mean(forest_k_score)} \\n\")\n",
    "\n",
    "print(\"---- LDA ----\")\n",
    "lda_k = LDA()\n",
    "lda_k_score = cross_val_score(lda_k, x_train, y_train, cv=kfold, n_jobs=1, scoring=\"accuracy\")\n",
    "print(lda_k_score)\n",
    "print(f\"Average lda_k score: {np.mean(lda_k_score)} \\n\")\n",
    "\n",
    "print(\"---- Ridge ----\")\n",
    "ridge_k = RidgeClassifier()\n",
    "ridge_k_score = cross_val_score(ridge_k, x_train, y_train, cv=kfold, n_jobs=1, scoring=\"accuracy\")\n",
    "print(ridge_k_score)\n",
    "print(f\"Average ridge_k score: {np.mean(ridge_k_score)} \\n\")"
   ]
  },
  {
   "cell_type": "code",
   "execution_count": 46,
   "metadata": {},
   "outputs": [],
   "source": [
    "lda_final = LDA()\n",
    "lda_final.fit(x_train, y_train)\n",
    "y_pred = lda_final.predict(test_pred)\n",
    "submission = pd.DataFrame({\"PassengerId\" : test[\"PassengerId\"], \"Survived\":y_pred})\n",
    "submission.to_csv(\"submission.csv\", index=False)"
   ]
  },
  {
   "cell_type": "markdown",
   "metadata": {},
   "source": [
    "### 5. Catboost"
   ]
  },
  {
   "cell_type": "code",
   "execution_count": 47,
   "metadata": {},
   "outputs": [],
   "source": [
    "import optuna\n",
    "from sklearn.model_selection import RandomizedSearchCV\n",
    "from sklearn.model_selection import train_test_split\n",
    "from sklearn.metrics import accuracy_score\n",
    "from catboost import CatBoostClassifier\n",
    "from optuna import Trial, visualization\n",
    "from optuna.samplers import TPESampler"
   ]
  },
  {
   "cell_type": "code",
   "execution_count": 48,
   "metadata": {},
   "outputs": [],
   "source": [
    "def optimizerCAT(trial, data, target):\n",
    "    param = {\n",
    "        'random_state':42,\n",
    "        'n_estimators': trial.suggest_int('n_estimators', 300, 3500),\n",
    "        'depth': trial.suggest_int('depth', 6, 14),\n",
    "        'fold_permutation_block': trial.suggest_int('fold_permutation_block', 1, 256),\n",
    "        'learning_rate': trial.suggest_float('learning_rate', 0.01, 1),\n",
    "        'od_pval': trial.suggest_float('od_pval', 0, 1),\n",
    "        'l2_leaf_reg': trial.suggest_float('l2_leaf_reg', 0, 4),\n",
    "    }\n",
    "\n",
    "    x_train, x_valid, y_train, y_valid = train_test_split(data, target, test_size=0.2)\n",
    "\n",
    "    model = CatBoostClassifier(**param)\n",
    "    model.fit(x_train, y_train, verbose= True)\n",
    "    score = accuracy_score(model.predict(x_valid), y_valid)\n",
    "\n",
    "    return score"
   ]
  },
  {
   "cell_type": "code",
   "execution_count": null,
   "metadata": {},
   "outputs": [],
   "source": [
    "study = optuna.create_study(direction=\"maximize\", sampler=TPESampler())\n",
    "x_train = train.drop([\"Survived\"], axis=1)\n",
    "y_train = train[\"Survived\"]\n",
    "study.optimize(lambda trial: optimizerCAT(trial, x_train, y_train), n_trials=5)\n",
    "\n",
    "print('Best trial : score {}, \\nparams {}'.format(study.best_trial.value, study.best_trial.params))"
   ]
  },
  {
   "cell_type": "code",
   "execution_count": 49,
   "metadata": {},
   "outputs": [
    {
     "data": {
      "text/plain": [
       "RandomizedSearchCV(cv=KFold(n_splits=5, random_state=42, shuffle=True),\n",
       "                   error_score=nan,\n",
       "                   estimator=<catboost.core.CatBoostClassifier object at 0x7faa4a867a58>,\n",
       "                   iid='deprecated', n_iter=10, n_jobs=1,\n",
       "                   param_distributions={'depth': [14],\n",
       "                                        'fold_permutation_block': [35],\n",
       "                                        'l2_leaf_reg': [3.851366073219974],\n",
       "                                        'learning_rate': [0.23405910287678164],\n",
       "                                        'n_estimators': [1001],\n",
       "                                        'od_pval': [0.7252879282127924]},\n",
       "                   pre_dispatch='2*n_jobs', random_state=None, refit=True,\n",
       "                   return_train_score=False, scoring=None, verbose=0)"
      ]
     },
     "execution_count": 49,
     "metadata": {},
     "output_type": "execute_result"
    }
   ],
   "source": [
    "cat_parameter = {'n_estimators': [1001], 'depth': [14], 'fold_permutation_block':[35], 'learning_rate': [0.23405910287678164], 'od_pval': [0.7252879282127924], 'l2_leaf_reg': [3.851366073219974]}\n",
    "cat = CatBoostClassifier(random_state=42, verbose=False)\n",
    "model = RandomizedSearchCV(cat, cat_parameter, cv=kfold, n_jobs=1)\n",
    "model.fit(x_train, y_train)"
   ]
  },
  {
   "cell_type": "code",
   "execution_count": 53,
   "metadata": {},
   "outputs": [],
   "source": [
    "y_pred = model.predict(test_pred)\n",
    "submission = pd.DataFrame({\"PassengerId\" : test[\"PassengerId\"], \"Survived\":y_pred})\n",
    "submission.to_csv(\"submission_catboost.csv\", index=False)"
   ]
  }
 ],
 "metadata": {
  "kernelspec": {
   "display_name": "Python 3.6.9 64-bit",
   "language": "python",
   "name": "python3"
  },
  "language_info": {
   "codemirror_mode": {
    "name": "ipython",
    "version": 3
   },
   "file_extension": ".py",
   "mimetype": "text/x-python",
   "name": "python",
   "nbconvert_exporter": "python",
   "pygments_lexer": "ipython3",
   "version": "3.6.9"
  },
  "orig_nbformat": 4,
  "vscode": {
   "interpreter": {
    "hash": "31f2aee4e71d21fbe5cf8b01ff0e069b9275f58929596ceb00d14d90e3e16cd6"
   }
  }
 },
 "nbformat": 4,
 "nbformat_minor": 2
}
